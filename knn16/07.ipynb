{
 "cells": [
  {
   "cell_type": "code",
   "execution_count": 24,
   "id": "cbb279f7",
   "metadata": {},
   "outputs": [],
   "source": [
    "import pandas as pd\n",
    "import numpy  as np\n",
    "import matplotlib.pyplot as plt\n",
    "import seaborn as sb\n",
    "from sklearn.preprocessing import StandardScaler\n",
    "from sklearn.model_selection import train_test_split\n",
    "from sklearn.neighbors import KNeighborsClassifier\n",
    "from sklearn.metrics import accuracy_score,classification_report\n",
    "import statsmodels.api as stapi\n",
    "import kagglehub"
   ]
  },
  {
   "cell_type": "code",
   "execution_count": 25,
   "id": "c2e573c3",
   "metadata": {},
   "outputs": [
    {
     "name": "stderr",
     "output_type": "stream",
     "text": [
      "<>:2: SyntaxWarning: invalid escape sequence '\\d'\n",
      "<>:2: SyntaxWarning: invalid escape sequence '\\d'\n",
      "C:\\Users\\Easy Data\\AppData\\Local\\Temp\\ipykernel_15784\\2712450779.py:2: SyntaxWarning: invalid escape sequence '\\d'\n",
      "  path=f\"C:\\\\Users\\\\Easy Data\\\\.cache\\\\kagglehub\\datasets\\\\erdemtaha\\\\cancer-data\\\\versions\\\\1\\\\Cancer_Data.csv\"\n"
     ]
    }
   ],
   "source": [
    "#path = kagglehub.dataset_download(\"erdemtaha/cancer-data\")\n",
    "path=f\"C:\\\\Users\\\\Easy Data\\\\.cache\\\\kagglehub\\datasets\\\\erdemtaha\\\\cancer-data\\\\versions\\\\1\\\\Cancer_Data.csv\""
   ]
  },
  {
   "cell_type": "code",
   "execution_count": 26,
   "id": "7692ae38",
   "metadata": {},
   "outputs": [],
   "source": [
    "df=pd.read_csv(path)"
   ]
  },
  {
   "cell_type": "code",
   "execution_count": 35,
   "id": "9c0f4114",
   "metadata": {},
   "outputs": [
    {
     "name": "stdout",
     "output_type": "stream",
     "text": [
      "Index(['id', 'diagnosis', 'radius_mean', 'texture_mean', 'perimeter_mean',\n",
      "       'area_mean', 'smoothness_mean', 'compactness_mean', 'concavity_mean',\n",
      "       'concave points_mean', 'symmetry_mean', 'fractal_dimension_mean',\n",
      "       'radius_se', 'texture_se', 'perimeter_se', 'area_se', 'smoothness_se',\n",
      "       'compactness_se', 'concavity_se', 'concave points_se', 'symmetry_se',\n",
      "       'fractal_dimension_se', 'radius_worst', 'texture_worst',\n",
      "       'perimeter_worst', 'area_worst', 'smoothness_worst',\n",
      "       'compactness_worst', 'concavity_worst', 'concave points_worst',\n",
      "       'symmetry_worst', 'fractal_dimension_worst'],\n",
      "      dtype='object')\n",
      "<class 'pandas.core.frame.DataFrame'>\n",
      "RangeIndex: 569 entries, 0 to 568\n",
      "Data columns (total 32 columns):\n",
      " #   Column                   Non-Null Count  Dtype  \n",
      "---  ------                   --------------  -----  \n",
      " 0   id                       569 non-null    int64  \n",
      " 1   diagnosis                569 non-null    object \n",
      " 2   radius_mean              569 non-null    float64\n",
      " 3   texture_mean             569 non-null    float64\n",
      " 4   perimeter_mean           569 non-null    float64\n",
      " 5   area_mean                569 non-null    float64\n",
      " 6   smoothness_mean          569 non-null    float64\n",
      " 7   compactness_mean         569 non-null    float64\n",
      " 8   concavity_mean           569 non-null    float64\n",
      " 9   concave points_mean      569 non-null    float64\n",
      " 10  symmetry_mean            569 non-null    float64\n",
      " 11  fractal_dimension_mean   569 non-null    float64\n",
      " 12  radius_se                569 non-null    float64\n",
      " 13  texture_se               569 non-null    float64\n",
      " 14  perimeter_se             569 non-null    float64\n",
      " 15  area_se                  569 non-null    float64\n",
      " 16  smoothness_se            569 non-null    float64\n",
      " 17  compactness_se           569 non-null    float64\n",
      " 18  concavity_se             569 non-null    float64\n",
      " 19  concave points_se        569 non-null    float64\n",
      " 20  symmetry_se              569 non-null    float64\n",
      " 21  fractal_dimension_se     569 non-null    float64\n",
      " 22  radius_worst             569 non-null    float64\n",
      " 23  texture_worst            569 non-null    float64\n",
      " 24  perimeter_worst          569 non-null    float64\n",
      " 25  area_worst               569 non-null    float64\n",
      " 26  smoothness_worst         569 non-null    float64\n",
      " 27  compactness_worst        569 non-null    float64\n",
      " 28  concavity_worst          569 non-null    float64\n",
      " 29  concave points_worst     569 non-null    float64\n",
      " 30  symmetry_worst           569 non-null    float64\n",
      " 31  fractal_dimension_worst  569 non-null    float64\n",
      "dtypes: float64(30), int64(1), object(1)\n",
      "memory usage: 142.4+ KB\n",
      "None\n",
      "                  id diagnosis  radius_mean  texture_mean  perimeter_mean  \\\n",
      "count   5.690000e+02       569   569.000000    569.000000      569.000000   \n",
      "unique           NaN         2          NaN           NaN             NaN   \n",
      "top              NaN         B          NaN           NaN             NaN   \n",
      "freq             NaN       357          NaN           NaN             NaN   \n",
      "mean    3.037183e+07       NaN    14.127292     19.289649       91.969033   \n",
      "std     1.250206e+08       NaN     3.524049      4.301036       24.298981   \n",
      "min     8.670000e+03       NaN     6.981000      9.710000       43.790000   \n",
      "25%     8.692180e+05       NaN    11.700000     16.170000       75.170000   \n",
      "50%     9.060240e+05       NaN    13.370000     18.840000       86.240000   \n",
      "75%     8.813129e+06       NaN    15.780000     21.800000      104.100000   \n",
      "max     9.113205e+08       NaN    28.110000     39.280000      188.500000   \n",
      "\n",
      "          area_mean  smoothness_mean  compactness_mean  concavity_mean  \\\n",
      "count    569.000000       569.000000        569.000000      569.000000   \n",
      "unique          NaN              NaN               NaN             NaN   \n",
      "top             NaN              NaN               NaN             NaN   \n",
      "freq            NaN              NaN               NaN             NaN   \n",
      "mean     654.889104         0.096360          0.104341        0.088799   \n",
      "std      351.914129         0.014064          0.052813        0.079720   \n",
      "min      143.500000         0.052630          0.019380        0.000000   \n",
      "25%      420.300000         0.086370          0.064920        0.029560   \n",
      "50%      551.100000         0.095870          0.092630        0.061540   \n",
      "75%      782.700000         0.105300          0.130400        0.130700   \n",
      "max     2501.000000         0.163400          0.345400        0.426800   \n",
      "\n",
      "        concave points_mean  ...  radius_worst  texture_worst  \\\n",
      "count            569.000000  ...    569.000000     569.000000   \n",
      "unique                  NaN  ...           NaN            NaN   \n",
      "top                     NaN  ...           NaN            NaN   \n",
      "freq                    NaN  ...           NaN            NaN   \n",
      "mean               0.048919  ...     16.269190      25.677223   \n",
      "std                0.038803  ...      4.833242       6.146258   \n",
      "min                0.000000  ...      7.930000      12.020000   \n",
      "25%                0.020310  ...     13.010000      21.080000   \n",
      "50%                0.033500  ...     14.970000      25.410000   \n",
      "75%                0.074000  ...     18.790000      29.720000   \n",
      "max                0.201200  ...     36.040000      49.540000   \n",
      "\n",
      "        perimeter_worst   area_worst  smoothness_worst  compactness_worst  \\\n",
      "count        569.000000   569.000000        569.000000         569.000000   \n",
      "unique              NaN          NaN               NaN                NaN   \n",
      "top                 NaN          NaN               NaN                NaN   \n",
      "freq                NaN          NaN               NaN                NaN   \n",
      "mean         107.261213   880.583128          0.132369           0.254265   \n",
      "std           33.602542   569.356993          0.022832           0.157336   \n",
      "min           50.410000   185.200000          0.071170           0.027290   \n",
      "25%           84.110000   515.300000          0.116600           0.147200   \n",
      "50%           97.660000   686.500000          0.131300           0.211900   \n",
      "75%          125.400000  1084.000000          0.146000           0.339100   \n",
      "max          251.200000  4254.000000          0.222600           1.058000   \n",
      "\n",
      "        concavity_worst  concave points_worst  symmetry_worst  \\\n",
      "count        569.000000            569.000000      569.000000   \n",
      "unique              NaN                   NaN             NaN   \n",
      "top                 NaN                   NaN             NaN   \n",
      "freq                NaN                   NaN             NaN   \n",
      "mean           0.272188              0.114606        0.290076   \n",
      "std            0.208624              0.065732        0.061867   \n",
      "min            0.000000              0.000000        0.156500   \n",
      "25%            0.114500              0.064930        0.250400   \n",
      "50%            0.226700              0.099930        0.282200   \n",
      "75%            0.382900              0.161400        0.317900   \n",
      "max            1.252000              0.291000        0.663800   \n",
      "\n",
      "        fractal_dimension_worst  \n",
      "count                569.000000  \n",
      "unique                      NaN  \n",
      "top                         NaN  \n",
      "freq                        NaN  \n",
      "mean                   0.083946  \n",
      "std                    0.018061  \n",
      "min                    0.055040  \n",
      "25%                    0.071460  \n",
      "50%                    0.080040  \n",
      "75%                    0.092080  \n",
      "max                    0.207500  \n",
      "\n",
      "[11 rows x 32 columns]\n",
      "0\n",
      "###################################\n",
      "diagnosis\n",
      "B    357\n",
      "M    212\n",
      "dtype: int64\n"
     ]
    }
   ],
   "source": [
    "#df.drop(\"Unnamed: 32\",axis=1,inplace=True)\n",
    "print(df.columns)\n",
    "print(df.info())\n",
    "print(df.describe(include=\"all\"))\n",
    "print(df.duplicated().sum())\n",
    "print(\"###################################\")\n",
    "print(df.groupby(by=\"diagnosis\").size())"
   ]
  },
  {
   "cell_type": "code",
   "execution_count": 28,
   "id": "7c637cf7",
   "metadata": {},
   "outputs": [],
   "source": [
    "x=df.drop(\"diagnosis\",axis=1)\n",
    "y=df.diagnosis"
   ]
  },
  {
   "cell_type": "code",
   "execution_count": 29,
   "id": "34e2a714",
   "metadata": {},
   "outputs": [],
   "source": [
    "#Scalar=StandardScaler().fit_transform(x,y)\n",
    "Scalar=StandardScaler()\n",
    "ScalaDeX=Scalar.fit_transform(x)"
   ]
  },
  {
   "cell_type": "code",
   "execution_count": 32,
   "id": "b7ee2b48",
   "metadata": {},
   "outputs": [],
   "source": [
    "X_train,X_test,y_train,y_test=train_test_split(ScalaDeX,y,test_size=0.2,random_state=42)\n"
   ]
  },
  {
   "cell_type": "code",
   "execution_count": 36,
   "id": "9f87c50a",
   "metadata": {},
   "outputs": [
    {
     "name": "stdout",
     "output_type": "stream",
     "text": [
      "La precicion es: 0.9473684210526315\n",
      "***********************************\n",
      "El reporte es:               precision    recall  f1-score   support\n",
      "\n",
      "           B       0.96      0.96      0.96        71\n",
      "           M       0.93      0.93      0.93        43\n",
      "\n",
      "    accuracy                           0.95       114\n",
      "   macro avg       0.94      0.94      0.94       114\n",
      "weighted avg       0.95      0.95      0.95       114\n",
      "\n"
     ]
    }
   ],
   "source": [
    "k=5\n",
    "Modeloknn=KNeighborsClassifier(n_neighbors=k).fit(X_train,y_train)\n",
    "y_predict=Modeloknn.predict(X_test)\n",
    "preccicon=accuracy_score(y_test,y_predict)\n",
    "reporte=classification_report(y_test,y_predict)\n",
    "print(f\"La precicion es: {preccicon}\")\n",
    "print(\"***********************************\")\n",
    "print(f\"El reporte es: {reporte}\")"
   ]
  },
  {
   "cell_type": "code",
   "execution_count": null,
   "id": "496a3349",
   "metadata": {},
   "outputs": [],
   "source": [
    "nuevax=[]\n",
    "y_predict=Modeloknn.predict(nuevax)\n",
    "predicion=y_predict\n",
    "print(predicion)"
   ]
  }
 ],
 "metadata": {
  "kernelspec": {
   "display_name": ".venv",
   "language": "python",
   "name": "python3"
  },
  "language_info": {
   "codemirror_mode": {
    "name": "ipython",
    "version": 3
   },
   "file_extension": ".py",
   "mimetype": "text/x-python",
   "name": "python",
   "nbconvert_exporter": "python",
   "pygments_lexer": "ipython3",
   "version": "3.12.5"
  }
 },
 "nbformat": 4,
 "nbformat_minor": 5
}
