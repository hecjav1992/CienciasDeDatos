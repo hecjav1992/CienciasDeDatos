{
 "cells": [
  {
   "cell_type": "markdown",
   "id": "4b22aa3f",
   "metadata": {},
   "source": [
    "<h1><b>Modulo 2 Ciencias De Datos</b></h1>\n",
    "<br>\n",
    "<h1>🎓 ¿Qué es la Estadística y la Probabilidad?</h1>\n",
    "📊 Estadística\n",
    "Es una rama de las matemáticas que se encarga de recolectar, organizar, analizar e interpretar datos para tomar decisiones o explicar fenómenos.\n",
    "\n",
    "La estadística se divide en:\n",
    "\n",
    "Descriptiva: resume y describe características de un conjunto de datos (ej. promedio, desviación estándar).\n",
    "\n",
    "Inferencial: permite hacer predicciones o generalizaciones sobre una población a partir de una muestra (ej. pruebas de hipótesis, estimaciones).\n",
    "\n",
    "🎲 Probabilidad\n",
    "Es el estudio matemático del azar. Se usa para cuantificar la posibilidad de que ocurra un evento.\n",
    "\n",
    "Se expresa como un número entre 0 y 1.\n",
    "\n",
    "Ejemplo: La probabilidad de obtener un 6 al lanzar un dado es 1/6 ≈ 0.1667."
   ]
  },
  {
   "cell_type": "markdown",
   "id": "024ff980",
   "metadata": {},
   "source": [
    "Estadística Descriptiva – Análisis de edades\n",
    "Problema: Dado un conjunto de edades, calcular la media, mediana, moda y desviación estándar."
   ]
  },
  {
   "cell_type": "code",
   "execution_count": 4,
   "id": "09511dbe",
   "metadata": {},
   "outputs": [
    {
     "name": "stdout",
     "output_type": "stream",
     "text": [
      "23.615384615384617\n",
      "3.101822331331685\n",
      "24.0\n",
      "ModeResult(mode=24, count=3)\n"
     ]
    }
   ],
   "source": [
    "import pandas as pdw\n",
    "from scipy import stats\n",
    "import numpy as np\n",
    "edades = np.array([18, 20, 21, 22, 22, 23, 24, 24, 24, 25, 26, 28, 30])\n",
    "print(np.mean(edades))\n",
    "print(np.std(edades))\n",
    "print(np.median(edades))\n",
    "print(stats.mode(edades))"
   ]
  },
  {
   "cell_type": "markdown",
   "id": "caba0ff7",
   "metadata": {},
   "source": [
    "Estadistica Descriptiba con Pandas"
   ]
  },
  {
   "cell_type": "code",
   "execution_count": 7,
   "id": "eb36c45b",
   "metadata": {},
   "outputs": [
    {
     "name": "stdout",
     "output_type": "stream",
     "text": [
      "               0\n",
      "count  13.000000\n",
      "mean   23.615385\n",
      "std     3.228479\n",
      "min    18.000000\n",
      "25%    22.000000\n",
      "50%    24.000000\n",
      "75%    25.000000\n",
      "max    30.000000\n",
      "0    23.615385\n",
      "dtype: float64\n",
      "0    24.0\n",
      "dtype: float64\n",
      "0    3.228479\n",
      "dtype: float64\n",
      "    0\n",
      "0  24\n"
     ]
    }
   ],
   "source": [
    "import pandas as pd\n",
    "\n",
    "df=pd.DataFrame(edades)\n",
    "print(df.describe())\n",
    "print(df.mean())\n",
    "print(df.median())\n",
    "print(df.std())\n",
    "print(df.mode())"
   ]
  },
  {
   "cell_type": "markdown",
   "id": "d5dfe4b9",
   "metadata": {},
   "source": [
    "Estadisitca descriptiva con py"
   ]
  },
  {
   "cell_type": "code",
   "execution_count": null,
   "id": "8857d1b3",
   "metadata": {},
   "outputs": [
    {
     "name": "stdout",
     "output_type": "stream",
     "text": [
      "3.101822331331685\n"
     ]
    }
   ],
   "source": [
    "from typing import Counter\n",
    "import math \n",
    "\n",
    "dataset=[18, 20, 21, 22, 22, 23, 24, 24, 24, 25, 26, 28, 30]\n",
    "\n",
    "def media(lista:list[int])->int:\n",
    "    return sum(dataset)/len(dataset)\n",
    "\n",
    "def moda(lista:list[int])-> int:\n",
    "    return Counter(list)\n",
    "\n",
    "def par(lista):\n",
    "    x=len(lista)//2\n",
    "    return sum(lista[x-1]+lista[x])/2\n",
    "\n",
    "def impar(lista):\n",
    "    return lista[int(len(lista)/2)]\n",
    "\n",
    "def mediana(lista:list[int])->float:\n",
    "    return par(lista) if len(lista)%2==0 else impar(lista)\n",
    "\n",
    "def sum_al_cuadrado(lista: list[int]) -> int:\n",
    "    return sum(x ** 2 for x in lista)\n",
    "\n",
    "\n",
    "def desviacion_standar(lista:list[int])->int:\n",
    "     return math.sqrt(variance(lista))\n",
    "\n",
    "def de_mean(lista: list[float]) -> list[float]:\n",
    "    x_bar = media(lista) \n",
    "    return [x-x_bar for x in lista]\n",
    "\n",
    "def variance(lista: list[int]) -> int:\n",
    "    n = len(lista)\n",
    "    deviations = de_mean(lista)\n",
    "    return sum_al_cuadrado(deviations) /(n)\n",
    "\n",
    "print(desviacion_standar(dataset))"
   ]
  },
  {
   "cell_type": "markdown",
   "id": "69af15d4",
   "metadata": {},
   "source": [
    " Estimar la media de una población a partir de una muestra\n",
    "🔍 Situación:\n",
    "Supongamos que hay 10,000 estudiantes en una universidad. Queremos estimar su edad promedio sin preguntarle a todos. Tomamos una muestra aleatoria de 200 estudiantes."
   ]
  },
  {
   "cell_type": "code",
   "execution_count": 1,
   "id": "cb7ce1a0",
   "metadata": {},
   "outputs": [
    {
     "name": "stdout",
     "output_type": "stream",
     "text": [
      "Media muestral: 22.26\n",
      "Intervalo de confianza al 95%: [21.90, 22.63]\n"
     ]
    }
   ],
   "source": [
    "import numpy as np\n",
    "import matplotlib.pyplot as plt\n",
    "import scipy.stats as stats\n",
    "\n",
    "np.random.seed(42)\n",
    "poblacion = np.random.normal(loc=22, scale=2.5, size=10000)\n",
    "muestra = np.random.choice(poblacion, size=200, replace=False)\n",
    "media_muestra = np.mean(muestra)\n",
    "std_muestra = np.std(muestra, ddof=1)\n",
    "confianza = 0.95\n",
    "z = stats.norm.ppf(1 - (1 - confianza) / 2)  # valor z para 95%\n",
    "margen_error = z * (std_muestra / np.sqrt(len(muestra)))\n",
    "\n",
    "# Intervalo\n",
    "limite_inferior = media_muestra - margen_error\n",
    "limite_superior = media_muestra + margen_error\n",
    "\n",
    "# Resultados\n",
    "print(f\"Media muestral: {media_muestra:.2f}\")\n",
    "print(f\"Intervalo de confianza al 95%: [{limite_inferior:.2f}, {limite_superior:.2f}]\")"
   ]
  },
  {
   "cell_type": "markdown",
   "id": "e93e7a3a",
   "metadata": {},
   "source": [
    "<h2>Probabilidad</h2>"
   ]
  },
  {
   "cell_type": "markdown",
   "id": "70c0119f",
   "metadata": {},
   "source": [
    "Probabilidad – Lanzamiento de un dado\n",
    "Problema: Calcular la probabilidad de que al lanzar un dado justo de 6 caras, salga un número mayor a 4.\n",
    "\n",
    "🧮 Teoría\n",
    "Los resultados posibles: {1, 2, 3, 4, 5, 6}\n",
    "Eventos favorables: {5, 6} → 2 resultados\n",
    "Probabilidad = Eventos favorables / Total de eventos = 2 / 6 = 0.333..."
   ]
  },
  {
   "cell_type": "markdown",
   "id": "a07e79f1",
   "metadata": {},
   "source": [
    "Probabilidad Bayesiana: medida de la\n",
    "confianza o certidumbre de que un suceso\n",
    "ocurra. La mejor medida de la incertidumbre\n",
    "es la probabilidad."
   ]
  },
  {
   "cell_type": "code",
   "execution_count": 3,
   "id": "07237d8b",
   "metadata": {},
   "outputs": [
    {
     "name": "stdout",
     "output_type": "stream",
     "text": [
      "Probabilidad de obtener un número mayor a 4: 0.33\n"
     ]
    }
   ],
   "source": [
    "espacio_muestral = [1, 2, 3, 4, 5, 6]\n",
    "eventos_favorables = [x for x in espacio_muestral if x > 4]\n",
    "\n",
    "probabilidad = len(eventos_favorables) / len(espacio_muestral)\n",
    "print(f\"Probabilidad de obtener un número mayor a 4: {probabilidad:.2f}\")"
   ]
  },
  {
   "cell_type": "markdown",
   "id": "77cce97e",
   "metadata": {},
   "source": [
    "Probabilidad Frecuentista: Si hacemos un\n",
    "experimento muchas veces, la probabilidad\n",
    "está asociada a la frecuencia con que ocurre\n",
    "cada posible valor de la variable aleatoria."
   ]
  },
  {
   "cell_type": "code",
   "execution_count": 27,
   "id": "d9625aff",
   "metadata": {},
   "outputs": [
    {
     "name": "stdout",
     "output_type": "stream",
     "text": [
      "Probabilidad simulada (10,000 lanzamientos): 0.33\n"
     ]
    }
   ],
   "source": [
    "import numpy as np\n",
    "lanzamientos = np.random.randint(1, 7, size=100000)\n",
    "exitos = np.sum(lanzamientos > 4)\n",
    "probabilidad_simulada = exitos / len(lanzamientos)\n",
    "\n",
    "print(f\"Probabilidad simulada (10,000 lanzamientos): {probabilidad_simulada:.2f}\")"
   ]
  },
  {
   "cell_type": "code",
   "execution_count": 28,
   "id": "d77e1fa7",
   "metadata": {},
   "outputs": [
    {
     "name": "stdout",
     "output_type": "stream",
     "text": [
      "Kid.GIRL\n",
      "Kid.GIRL\n",
      "Kid.BOY\n",
      "Kid.GIRL\n",
      "Kid.GIRL\n",
      "Kid.GIRL\n",
      "Kid.GIRL\n",
      "Kid.GIRL\n",
      "Kid.GIRL\n",
      "Kid.BOY\n",
      "Kid.BOY\n",
      "Kid.GIRL\n",
      "Kid.BOY\n",
      "Kid.BOY\n",
      "Kid.GIRL\n",
      "Kid.BOY\n",
      "Kid.GIRL\n",
      "Kid.BOY\n",
      "Kid.BOY\n",
      "Kid.GIRL\n",
      "P(both | older): 1.0\n",
      "P(both | either): 0.6666666666666666\n"
     ]
    }
   ],
   "source": [
    "import enum\n",
    "import random\n",
    "\n",
    "# Definimos el Enum para representar los posibles valores de un niño\n",
    "class Kid(enum.Enum):\n",
    "    BOY = 0\n",
    "    GIRL = 1\n",
    "\n",
    "# Función para generar un niño aleatorio\n",
    "def random_kid() -> Kid:\n",
    "    return random.choice([Kid.BOY, Kid.GIRL])\n",
    "\n",
    "# Inicializamos los contadores\n",
    "both_girls = 0\n",
    "older_girl = 0\n",
    "either_girl = 0\n",
    "\n",
    "# Fijamos la semilla para reproducibilidad\n",
    "random.seed(0)\n",
    "\n",
    "# Realizamos las simulaciones\n",
    "for _ in range(10):\n",
    "    younger = random_kid()\n",
    "    older = random_kid()\n",
    "    print(younger)\n",
    "    print(older)\n",
    "    \n",
    "    if older == Kid.GIRL:\n",
    "        older_girl += 1\n",
    "        \n",
    "    if younger == Kid.GIRL:\n",
    "        both_girls += 1\n",
    "    \n",
    "    if older == Kid.GIRL or younger == Kid.GIRL:\n",
    "        either_girl += 1\n",
    "\n",
    "# Calculamos las probabilidades\n",
    "prob_both_given_older = both_girls / older_girl\n",
    "prob_both_given_either = both_girls / either_girl\n",
    "\n",
    "# Imprimimos los resultados\n",
    "print(\"P(both | older):\", prob_both_given_older)  # Debería ser cercano a 1/2\n",
    "print(\"P(both | either):\", prob_both_given_either)  # Debería ser cercano a 1/3"
   ]
  },
  {
   "cell_type": "markdown",
   "id": "ab43dc8a",
   "metadata": {},
   "source": [
    "Concepto de Variables\n",
    "Una variable es una característica o propiedad que puede tomar diferentes valores en un conjunto de datos o en un experimento. En términos estadísticos, una variable es cualquier atributo, cualidad o cantidad que puede variar y que puede ser medida o categorizada. Las variables son fundamentales en el análisis de datos y en la estadística, ya que permiten realizar observaciones, establecer relaciones y hacer inferencias sobre los fenómenos estudiados.\n",
    "\n",
    "Clasificación de las Variables\n",
    "Las variables pueden clasificarse en diferentes tipos según su naturaleza y la forma en que pueden ser medidas. Aquí se presentan las principales clasificaciones:\n",
    "\n",
    "Según su Naturaleza o Tipo de Valor\n",
    "\n",
    "1- Variables Cuantitativas: Representan cantidades numéricas y permiten medir un grado o nivel de una característica. Estas variables pueden ser:\n",
    "\n",
    "A-Discretas: Solo pueden tomar ciertos valores específicos, generalmente enteros. Están asociadas con conteos, como el número de hijos, el número de llamadas, etc.\n",
    "\n",
    "B-Continuas: Pueden tomar cualquier valor dentro de un rango o intervalo, incluyendo valores decimales. Están asociadas con mediciones, como el peso, la altura o la temperatura.\n",
    "\n",
    "2- Variables Cualitativas: Representan cualidades o categorías que describen una característica, pero no tienen un valor numérico. Estas variables pueden ser:\n",
    "\n",
    "A-Nominales: No tienen un orden intrínseco. Ejemplos incluyen el color de ojos, el género, la nacionalidad, etc.\n",
    "\n",
    "B-Ordinales: Tienen un orden o jerarquía. Ejemplos incluyen los niveles de satisfacción (bajo, medio, alto), los rangos militares, o las tallas de ropa (S, M, L)."
   ]
  },
  {
   "cell_type": "code",
   "execution_count": 53,
   "id": "e8a309e1",
   "metadata": {},
   "outputs": [
    {
     "name": "stdout",
     "output_type": "stream",
     "text": [
      "Variables Cualitativas (Categóricas): ['sex', 'smoker', 'day', 'time']\n",
      "Variables Cuantitativas (Numéricas): ['total_bill', 'tip', 'size']\n"
     ]
    }
   ],
   "source": [
    "import seaborn as sns\n",
    "import pandas as pd\n",
    "\n",
    "# Cargar el dataset de propinas\n",
    "tips = sns.load_dataset(\"tips\")\n",
    "\n",
    "# Clasificación de variables\n",
    "qualitative = []  # Variables cualitativas (categóricas)\n",
    "quantitative = []  # Variables cuantitativas (numéricas)\n",
    "\n",
    "for column in tips.columns:\n",
    "    if pd.api.types.is_numeric_dtype(tips[column]):\n",
    "        # Variables cuantitativas (numéricas)\n",
    "        quantitative.append(column)\n",
    "    else:\n",
    "        # Variables cualitativas (categóricas)\n",
    "        qualitative.append(column)\n",
    "\n",
    "# Mostrar clasificación de las variables\n",
    "print(\"Variables Cualitativas (Categóricas):\", qualitative)\n",
    "print(\"Variables Cuantitativas (Numéricas):\", quantitative)\n",
    "\n"
   ]
  },
  {
   "cell_type": "markdown",
   "id": "372868d8",
   "metadata": {},
   "source": [
    "<b>Variables Numéricas</b><br>\n",
    "En general, las variables numéricas podrían ser usadas sin demasiado preprocesamiento, ya que ya están en un formato que los modelos entienden. Sin embargo, muchas veces no es ese el caso. Algunas de las cosas que se suelen hacer son:\n",
    "<ul>\n",
    "<li>Discretización y binning</li>\n",
    "<li>Reescalar (más adelante en el curso)</li>\n",
    "<li>Combinar con otras variables (más adelante en el curso)</li>\n",
    "<li>Discretización y binning con Pandas</li>\n",
    "</ul>\n",
    "Si ya sabemos qué bines usar, Pandas es muy útil.\n",
    "\n",
    "cut()"
   ]
  },
  {
   "cell_type": "code",
   "execution_count": 2,
   "id": "54a1168c",
   "metadata": {},
   "outputs": [
    {
     "ename": "FileNotFoundError",
     "evalue": "[Errno 2] No such file or directory: '../DataSets/Titanic.csv'",
     "output_type": "error",
     "traceback": [
      "\u001b[1;31m---------------------------------------------------------------------------\u001b[0m",
      "\u001b[1;31mFileNotFoundError\u001b[0m                         Traceback (most recent call last)",
      "Cell \u001b[1;32mIn[2], line 8\u001b[0m\n\u001b[0;32m      5\u001b[0m \u001b[38;5;28;01mimport\u001b[39;00m \u001b[38;5;21;01mseaborn\u001b[39;00m \u001b[38;5;28;01mas\u001b[39;00m \u001b[38;5;21;01msb\u001b[39;00m\n\u001b[0;32m      7\u001b[0m sb\u001b[38;5;241m.\u001b[39mset()\n\u001b[1;32m----> 8\u001b[0m df \u001b[38;5;241m=\u001b[39m pd\u001b[38;5;241m.\u001b[39mread_csv(\u001b[38;5;124m'\u001b[39m\u001b[38;5;124m../DataSets/Titanic.csv\u001b[39m\u001b[38;5;124m'\u001b[39m)\n\u001b[0;32m      9\u001b[0m df\u001b[38;5;241m.\u001b[39mhead(\u001b[38;5;241m5\u001b[39m)\n\u001b[0;32m     10\u001b[0m bins \u001b[38;5;241m=\u001b[39m [\u001b[38;5;241m0\u001b[39m,\u001b[38;5;241m3\u001b[39m,\u001b[38;5;241m12\u001b[39m,\u001b[38;5;241m18\u001b[39m,\u001b[38;5;241m60\u001b[39m,\u001b[38;5;241m100\u001b[39m]\n",
      "File \u001b[1;32mc:\\ProgramData\\anaconda3\\Lib\\site-packages\\pandas\\io\\parsers\\readers.py:1026\u001b[0m, in \u001b[0;36mread_csv\u001b[1;34m(filepath_or_buffer, sep, delimiter, header, names, index_col, usecols, dtype, engine, converters, true_values, false_values, skipinitialspace, skiprows, skipfooter, nrows, na_values, keep_default_na, na_filter, verbose, skip_blank_lines, parse_dates, infer_datetime_format, keep_date_col, date_parser, date_format, dayfirst, cache_dates, iterator, chunksize, compression, thousands, decimal, lineterminator, quotechar, quoting, doublequote, escapechar, comment, encoding, encoding_errors, dialect, on_bad_lines, delim_whitespace, low_memory, memory_map, float_precision, storage_options, dtype_backend)\u001b[0m\n\u001b[0;32m   1013\u001b[0m kwds_defaults \u001b[38;5;241m=\u001b[39m _refine_defaults_read(\n\u001b[0;32m   1014\u001b[0m     dialect,\n\u001b[0;32m   1015\u001b[0m     delimiter,\n\u001b[1;32m   (...)\u001b[0m\n\u001b[0;32m   1022\u001b[0m     dtype_backend\u001b[38;5;241m=\u001b[39mdtype_backend,\n\u001b[0;32m   1023\u001b[0m )\n\u001b[0;32m   1024\u001b[0m kwds\u001b[38;5;241m.\u001b[39mupdate(kwds_defaults)\n\u001b[1;32m-> 1026\u001b[0m \u001b[38;5;28;01mreturn\u001b[39;00m _read(filepath_or_buffer, kwds)\n",
      "File \u001b[1;32mc:\\ProgramData\\anaconda3\\Lib\\site-packages\\pandas\\io\\parsers\\readers.py:620\u001b[0m, in \u001b[0;36m_read\u001b[1;34m(filepath_or_buffer, kwds)\u001b[0m\n\u001b[0;32m    617\u001b[0m _validate_names(kwds\u001b[38;5;241m.\u001b[39mget(\u001b[38;5;124m\"\u001b[39m\u001b[38;5;124mnames\u001b[39m\u001b[38;5;124m\"\u001b[39m, \u001b[38;5;28;01mNone\u001b[39;00m))\n\u001b[0;32m    619\u001b[0m \u001b[38;5;66;03m# Create the parser.\u001b[39;00m\n\u001b[1;32m--> 620\u001b[0m parser \u001b[38;5;241m=\u001b[39m TextFileReader(filepath_or_buffer, \u001b[38;5;241m*\u001b[39m\u001b[38;5;241m*\u001b[39mkwds)\n\u001b[0;32m    622\u001b[0m \u001b[38;5;28;01mif\u001b[39;00m chunksize \u001b[38;5;129;01mor\u001b[39;00m iterator:\n\u001b[0;32m    623\u001b[0m     \u001b[38;5;28;01mreturn\u001b[39;00m parser\n",
      "File \u001b[1;32mc:\\ProgramData\\anaconda3\\Lib\\site-packages\\pandas\\io\\parsers\\readers.py:1620\u001b[0m, in \u001b[0;36mTextFileReader.__init__\u001b[1;34m(self, f, engine, **kwds)\u001b[0m\n\u001b[0;32m   1617\u001b[0m     \u001b[38;5;28mself\u001b[39m\u001b[38;5;241m.\u001b[39moptions[\u001b[38;5;124m\"\u001b[39m\u001b[38;5;124mhas_index_names\u001b[39m\u001b[38;5;124m\"\u001b[39m] \u001b[38;5;241m=\u001b[39m kwds[\u001b[38;5;124m\"\u001b[39m\u001b[38;5;124mhas_index_names\u001b[39m\u001b[38;5;124m\"\u001b[39m]\n\u001b[0;32m   1619\u001b[0m \u001b[38;5;28mself\u001b[39m\u001b[38;5;241m.\u001b[39mhandles: IOHandles \u001b[38;5;241m|\u001b[39m \u001b[38;5;28;01mNone\u001b[39;00m \u001b[38;5;241m=\u001b[39m \u001b[38;5;28;01mNone\u001b[39;00m\n\u001b[1;32m-> 1620\u001b[0m \u001b[38;5;28mself\u001b[39m\u001b[38;5;241m.\u001b[39m_engine \u001b[38;5;241m=\u001b[39m \u001b[38;5;28mself\u001b[39m\u001b[38;5;241m.\u001b[39m_make_engine(f, \u001b[38;5;28mself\u001b[39m\u001b[38;5;241m.\u001b[39mengine)\n",
      "File \u001b[1;32mc:\\ProgramData\\anaconda3\\Lib\\site-packages\\pandas\\io\\parsers\\readers.py:1880\u001b[0m, in \u001b[0;36mTextFileReader._make_engine\u001b[1;34m(self, f, engine)\u001b[0m\n\u001b[0;32m   1878\u001b[0m     \u001b[38;5;28;01mif\u001b[39;00m \u001b[38;5;124m\"\u001b[39m\u001b[38;5;124mb\u001b[39m\u001b[38;5;124m\"\u001b[39m \u001b[38;5;129;01mnot\u001b[39;00m \u001b[38;5;129;01min\u001b[39;00m mode:\n\u001b[0;32m   1879\u001b[0m         mode \u001b[38;5;241m+\u001b[39m\u001b[38;5;241m=\u001b[39m \u001b[38;5;124m\"\u001b[39m\u001b[38;5;124mb\u001b[39m\u001b[38;5;124m\"\u001b[39m\n\u001b[1;32m-> 1880\u001b[0m \u001b[38;5;28mself\u001b[39m\u001b[38;5;241m.\u001b[39mhandles \u001b[38;5;241m=\u001b[39m get_handle(\n\u001b[0;32m   1881\u001b[0m     f,\n\u001b[0;32m   1882\u001b[0m     mode,\n\u001b[0;32m   1883\u001b[0m     encoding\u001b[38;5;241m=\u001b[39m\u001b[38;5;28mself\u001b[39m\u001b[38;5;241m.\u001b[39moptions\u001b[38;5;241m.\u001b[39mget(\u001b[38;5;124m\"\u001b[39m\u001b[38;5;124mencoding\u001b[39m\u001b[38;5;124m\"\u001b[39m, \u001b[38;5;28;01mNone\u001b[39;00m),\n\u001b[0;32m   1884\u001b[0m     compression\u001b[38;5;241m=\u001b[39m\u001b[38;5;28mself\u001b[39m\u001b[38;5;241m.\u001b[39moptions\u001b[38;5;241m.\u001b[39mget(\u001b[38;5;124m\"\u001b[39m\u001b[38;5;124mcompression\u001b[39m\u001b[38;5;124m\"\u001b[39m, \u001b[38;5;28;01mNone\u001b[39;00m),\n\u001b[0;32m   1885\u001b[0m     memory_map\u001b[38;5;241m=\u001b[39m\u001b[38;5;28mself\u001b[39m\u001b[38;5;241m.\u001b[39moptions\u001b[38;5;241m.\u001b[39mget(\u001b[38;5;124m\"\u001b[39m\u001b[38;5;124mmemory_map\u001b[39m\u001b[38;5;124m\"\u001b[39m, \u001b[38;5;28;01mFalse\u001b[39;00m),\n\u001b[0;32m   1886\u001b[0m     is_text\u001b[38;5;241m=\u001b[39mis_text,\n\u001b[0;32m   1887\u001b[0m     errors\u001b[38;5;241m=\u001b[39m\u001b[38;5;28mself\u001b[39m\u001b[38;5;241m.\u001b[39moptions\u001b[38;5;241m.\u001b[39mget(\u001b[38;5;124m\"\u001b[39m\u001b[38;5;124mencoding_errors\u001b[39m\u001b[38;5;124m\"\u001b[39m, \u001b[38;5;124m\"\u001b[39m\u001b[38;5;124mstrict\u001b[39m\u001b[38;5;124m\"\u001b[39m),\n\u001b[0;32m   1888\u001b[0m     storage_options\u001b[38;5;241m=\u001b[39m\u001b[38;5;28mself\u001b[39m\u001b[38;5;241m.\u001b[39moptions\u001b[38;5;241m.\u001b[39mget(\u001b[38;5;124m\"\u001b[39m\u001b[38;5;124mstorage_options\u001b[39m\u001b[38;5;124m\"\u001b[39m, \u001b[38;5;28;01mNone\u001b[39;00m),\n\u001b[0;32m   1889\u001b[0m )\n\u001b[0;32m   1890\u001b[0m \u001b[38;5;28;01massert\u001b[39;00m \u001b[38;5;28mself\u001b[39m\u001b[38;5;241m.\u001b[39mhandles \u001b[38;5;129;01mis\u001b[39;00m \u001b[38;5;129;01mnot\u001b[39;00m \u001b[38;5;28;01mNone\u001b[39;00m\n\u001b[0;32m   1891\u001b[0m f \u001b[38;5;241m=\u001b[39m \u001b[38;5;28mself\u001b[39m\u001b[38;5;241m.\u001b[39mhandles\u001b[38;5;241m.\u001b[39mhandle\n",
      "File \u001b[1;32mc:\\ProgramData\\anaconda3\\Lib\\site-packages\\pandas\\io\\common.py:873\u001b[0m, in \u001b[0;36mget_handle\u001b[1;34m(path_or_buf, mode, encoding, compression, memory_map, is_text, errors, storage_options)\u001b[0m\n\u001b[0;32m    868\u001b[0m \u001b[38;5;28;01melif\u001b[39;00m \u001b[38;5;28misinstance\u001b[39m(handle, \u001b[38;5;28mstr\u001b[39m):\n\u001b[0;32m    869\u001b[0m     \u001b[38;5;66;03m# Check whether the filename is to be opened in binary mode.\u001b[39;00m\n\u001b[0;32m    870\u001b[0m     \u001b[38;5;66;03m# Binary mode does not support 'encoding' and 'newline'.\u001b[39;00m\n\u001b[0;32m    871\u001b[0m     \u001b[38;5;28;01mif\u001b[39;00m ioargs\u001b[38;5;241m.\u001b[39mencoding \u001b[38;5;129;01mand\u001b[39;00m \u001b[38;5;124m\"\u001b[39m\u001b[38;5;124mb\u001b[39m\u001b[38;5;124m\"\u001b[39m \u001b[38;5;129;01mnot\u001b[39;00m \u001b[38;5;129;01min\u001b[39;00m ioargs\u001b[38;5;241m.\u001b[39mmode:\n\u001b[0;32m    872\u001b[0m         \u001b[38;5;66;03m# Encoding\u001b[39;00m\n\u001b[1;32m--> 873\u001b[0m         handle \u001b[38;5;241m=\u001b[39m \u001b[38;5;28mopen\u001b[39m(\n\u001b[0;32m    874\u001b[0m             handle,\n\u001b[0;32m    875\u001b[0m             ioargs\u001b[38;5;241m.\u001b[39mmode,\n\u001b[0;32m    876\u001b[0m             encoding\u001b[38;5;241m=\u001b[39mioargs\u001b[38;5;241m.\u001b[39mencoding,\n\u001b[0;32m    877\u001b[0m             errors\u001b[38;5;241m=\u001b[39merrors,\n\u001b[0;32m    878\u001b[0m             newline\u001b[38;5;241m=\u001b[39m\u001b[38;5;124m\"\u001b[39m\u001b[38;5;124m\"\u001b[39m,\n\u001b[0;32m    879\u001b[0m         )\n\u001b[0;32m    880\u001b[0m     \u001b[38;5;28;01melse\u001b[39;00m:\n\u001b[0;32m    881\u001b[0m         \u001b[38;5;66;03m# Binary mode\u001b[39;00m\n\u001b[0;32m    882\u001b[0m         handle \u001b[38;5;241m=\u001b[39m \u001b[38;5;28mopen\u001b[39m(handle, ioargs\u001b[38;5;241m.\u001b[39mmode)\n",
      "\u001b[1;31mFileNotFoundError\u001b[0m: [Errno 2] No such file or directory: '../DataSets/Titanic.csv'"
     ]
    }
   ],
   "source": [
    "import pandas as pd\n",
    "import numpy as np\n",
    "import matplotlib.pyplot as plt\n",
    "import scipy as stats\n",
    "import seaborn as sb\n",
    "\n",
    "sb.set()\n",
    "df = pd.read_csv('../DataSets/Titanic.csv')\n",
    "df.head(5)\n",
    "bins = [0,3,12,18,60,100]\n",
    "cats = pd.cut(df.Age, bins)\n",
    "cats.head(10)\n",
    "df['Age_bins'] = cats\n",
    "df.head(100)\n",
    "bins = [0,3,12,18,60,100]\n",
    "labels = ['bebe', 'niño', 'adolescente', 'adulto', 'anciano']\n",
    "cats = pd.cut(df.Age, bins, labels = labels)\n",
    "cats.head(10)\n",
    "df['Age_labels'] = cats\n",
    "df.head()\n"
   ]
  },
  {
   "cell_type": "markdown",
   "id": "17369da5",
   "metadata": {},
   "source": [
    "<h2>Nominales</h2>\n",
    "Este es uno de los tipos de encoding más comunes que vamos a tener que hacer. Empecemos con un ejemplo, el género en el Titanic. Ya dijimos que queremos llevar los valores male y female a 0 y 1. El orden no importa, lo único importante es que no nos olvidemos cuál es cuál. Esto, en Pandas, lo podemos hacer con\n",
    "\n",
    "map()\n",
    "En primer lugar, definimos un diccionario, que es donde tendremos el mapeo."
   ]
  },
  {
   "cell_type": "code",
   "execution_count": 1,
   "id": "b1ec46ea",
   "metadata": {},
   "outputs": [
    {
     "ename": "NameError",
     "evalue": "name 'df' is not defined",
     "output_type": "error",
     "traceback": [
      "\u001b[1;31m---------------------------------------------------------------------------\u001b[0m",
      "\u001b[1;31mNameError\u001b[0m                                 Traceback (most recent call last)",
      "Cell \u001b[1;32mIn[1], line 2\u001b[0m\n\u001b[0;32m      1\u001b[0m diccionario \u001b[38;5;241m=\u001b[39m {\u001b[38;5;124m'\u001b[39m\u001b[38;5;124mmale\u001b[39m\u001b[38;5;124m'\u001b[39m: \u001b[38;5;241m0\u001b[39m, \u001b[38;5;124m'\u001b[39m\u001b[38;5;124mfemale\u001b[39m\u001b[38;5;124m'\u001b[39m: \u001b[38;5;241m1\u001b[39m}\n\u001b[1;32m----> 2\u001b[0m df[\u001b[38;5;124m'\u001b[39m\u001b[38;5;124mSex_Map\u001b[39m\u001b[38;5;124m'\u001b[39m] \u001b[38;5;241m=\u001b[39m df\u001b[38;5;241m.\u001b[39mSex\u001b[38;5;241m.\u001b[39mmap(diccionario)\n\u001b[0;32m      3\u001b[0m df\u001b[38;5;241m.\u001b[39mhead(\u001b[38;5;241m10\u001b[39m)\n",
      "\u001b[1;31mNameError\u001b[0m: name 'df' is not defined"
     ]
    }
   ],
   "source": [
    "diccionario = {'male': 0, 'female': 1}\n",
    "df['Sex_Map'] = df.Sex.map(diccionario)\n",
    "df.head(10)"
   ]
  },
  {
   "cell_type": "code",
   "execution_count": 1,
   "id": "0d9a12b0",
   "metadata": {},
   "outputs": [
    {
     "data": {
      "text/plain": [
       "[1, 2, 3, 4]"
      ]
     },
     "execution_count": 1,
     "metadata": {},
     "output_type": "execute_result"
    }
   ],
   "source": [
    "Educacion=['Primaria', 'Secundaria', 'Preparatoria', 'Universidad']\n",
    "[1, 2, 3, 4]"
   ]
  },
  {
   "cell_type": "markdown",
   "id": "a551019b",
   "metadata": {},
   "source": [
    "En pandas"
   ]
  },
  {
   "cell_type": "code",
   "execution_count": 3,
   "id": "e780673e",
   "metadata": {},
   "outputs": [
    {
     "name": "stdout",
     "output_type": "stream",
     "text": [
      "      educacion  educacion_ordinal\n",
      "0      Primaria                  1\n",
      "1    Secundaria                  2\n",
      "2  Preparatoria                  3\n",
      "3   Universidad                  4\n",
      "4    Secundaria                  2\n"
     ]
    }
   ],
   "source": [
    "import pandas as pd\n",
    "datos = pd.DataFrame({\n",
    "    'educacion': ['Primaria', 'Secundaria', 'Preparatoria', 'Universidad', 'Secundaria']\n",
    "})\n",
    "orden = ['Primaria', 'Secundaria', 'Preparatoria', 'Universidad']\n",
    "datos['educacion_ordinal'] = datos['educacion'].apply(lambda x: orden.index(x) + 1)\n",
    "print(datos)"
   ]
  },
  {
   "cell_type": "code",
   "execution_count": null,
   "id": "c51b955e",
   "metadata": {},
   "outputs": [
    {
     "name": "stdout",
     "output_type": "stream",
     "text": [
      "[[0.]\n",
      " [1.]\n",
      " [2.]\n",
      " [3.]\n",
      " [1.]]\n"
     ]
    }
   ],
   "source": [
    "from sklearn.preprocessing import OrdinalEncoder\n",
    "X = [['Primaria'], ['Secundaria'], ['Preparatoria'], ['Universidad'], ['Secundaria']]\n",
    "encoder = OrdinalEncoder(categories=[['Primaria', 'Secundaria', 'Preparatoria', 'Universidad']])\n",
    "X_ordinal = encoder.fit_transform(X)\n",
    "print(X_ordinal)"
   ]
  },
  {
   "cell_type": "markdown",
   "id": "6d120df8",
   "metadata": {},
   "source": [
    "<h3>Transformación de Datos</h3>\n",
    "Transformación de datos es una de los procesos que más tiempo lleva en un un flujo de Data Science y, lamentablemente, muchas veces no es entretenido. Pero es importante no perder el objetivo de por qué lo hacemos, si bien en este momento de la carrera puede parecer un poco abstracto. Por un lado, los modelos de Machine Learning que usemos, que van a \"aprender\" de nuestros datos, sólo entienden de números. Esto quiere decir que, si en un dataset como el de Titanic hay una columna de género con dos valores, male y female, tendremos que llevarlo a una representación que los modelos entiendan. En este caso, es sencillo, asignamos un \"0\" y un \"1\" a cada uno de los valores y problema resuelto. En el fondo, hay una hipótesis implícita: el género nos sirve para predecir supervivencia, por lo que queremos mantener esta información y hacerla comprensible para nuestros modelos. Eso es un atributo (feature): un pedazo de información potencialmente bueno para aprender de nuestros datos o hacer predicciones útiles."
   ]
  }
 ],
 "metadata": {
  "kernelspec": {
   "display_name": "base",
   "language": "python",
   "name": "python3"
  },
  "language_info": {
   "codemirror_mode": {
    "name": "ipython",
    "version": 3
   },
   "file_extension": ".py",
   "mimetype": "text/x-python",
   "name": "python",
   "nbconvert_exporter": "python",
   "pygments_lexer": "ipython3",
   "version": "3.12.4"
  }
 },
 "nbformat": 4,
 "nbformat_minor": 5
}
