{
 "cells": [
  {
   "cell_type": "code",
   "execution_count": 11,
   "id": "59a3dfbc",
   "metadata": {},
   "outputs": [],
   "source": [
    "users = [\n",
    "{ \"id\": 0, \"name\": \"Hero\" },\n",
    "{ \"id\": 1, \"name\": \"Dunn\" },\n",
    "{ \"id\": 2, \"name\": \"Sue\" },\n",
    "{ \"id\": 3, \"name\": \"Chi\" },\n",
    "{ \"id\": 4, \"name\": \"Thor\" },\n",
    "{ \"id\": 5, \"name\": \"Clive\" },\n",
    "{ \"id\": 6, \"name\": \"Hicks\" },\n",
    "{ \"id\": 7, \"name\": \"Devin\" },\n",
    "{ \"id\": 8, \"name\": \"Kate\" },\n",
    "{ \"id\": 9, \"name\": \"Klein\" }\n",
    "]"
   ]
  },
  {
   "cell_type": "code",
   "execution_count": 12,
   "id": "3fd60a04",
   "metadata": {},
   "outputs": [],
   "source": [
    "trabajo_en_grupo= [(0, 1), (0, 2), (1, 2), (1, 3), (2, 3), (3, 4),\n",
    "(4, 5), (5, 6), (5, 7), (6, 8), (7, 8), (8, 9)]"
   ]
  },
  {
   "cell_type": "code",
   "execution_count": 13,
   "id": "a4db4dde",
   "metadata": {},
   "outputs": [],
   "source": [
    "DiccionarioDeConexion={user[\"id\"]:[] for user in users}"
   ]
  },
  {
   "cell_type": "code",
   "execution_count": 14,
   "id": "a426bd1a",
   "metadata": {},
   "outputs": [],
   "source": [
    "for x,y in trabajo_en_grupo:\n",
    "    DiccionarioDeConexion[x].append(y)\n",
    "    DiccionarioDeConexion[y].append(x)\n"
   ]
  },
  {
   "cell_type": "code",
   "execution_count": 15,
   "id": "3e8b6e59",
   "metadata": {},
   "outputs": [],
   "source": [
    "def tamaño_conexion(persona):\n",
    "    return len(persona)\n"
   ]
  },
  {
   "cell_type": "code",
   "execution_count": 16,
   "id": "17201ba6",
   "metadata": {},
   "outputs": [
    {
     "name": "stdout",
     "output_type": "stream",
     "text": [
      "[0, 1, 3]\n"
     ]
    }
   ],
   "source": [
    "print(DiccionarioDeConexion[2])\n"
   ]
  },
  {
   "cell_type": "code",
   "execution_count": 17,
   "id": "7dbd6bfc",
   "metadata": {},
   "outputs": [],
   "source": [
    "tamaño=sum(tamaño_conexion(i) for i in DiccionarioDeConexion.values())"
   ]
  },
  {
   "cell_type": "code",
   "execution_count": 18,
   "id": "dc8d02fa",
   "metadata": {},
   "outputs": [
    {
     "name": "stdout",
     "output_type": "stream",
     "text": [
      "0\n",
      "[1, 2]\n",
      "1\n",
      "[0, 2, 3]\n",
      "2\n",
      "[0, 1, 3]\n",
      "3\n",
      "[1, 2, 4]\n",
      "4\n",
      "[3, 5]\n",
      "5\n",
      "[4, 6, 7]\n",
      "6\n",
      "[5, 8]\n",
      "7\n",
      "[5, 8]\n",
      "8\n",
      "[6, 7, 9]\n",
      "9\n",
      "[8]\n"
     ]
    }
   ],
   "source": [
    "listaprueba=[]\n",
    "for i in users:\n",
    "    print(i[\"id\"])\n",
    "    usuario=i[\"id\"]\n",
    "    for j,k in trabajo_en_grupo:\n",
    "        if usuario in (j,k):\n",
    "            if usuario!=j:\n",
    "                listaprueba.append(j)\n",
    "            elif usuario!=k:\n",
    "                listaprueba.append(k)\n",
    "    print(listaprueba)\n",
    "    listaprueba.clear()"
   ]
  }
 ],
 "metadata": {
  "kernelspec": {
   "display_name": "base",
   "language": "python",
   "name": "python3"
  },
  "language_info": {
   "codemirror_mode": {
    "name": "ipython",
    "version": 3
   },
   "file_extension": ".py",
   "mimetype": "text/x-python",
   "name": "python",
   "nbconvert_exporter": "python",
   "pygments_lexer": "ipython3",
   "version": "3.12.4"
  }
 },
 "nbformat": 4,
 "nbformat_minor": 5
}
