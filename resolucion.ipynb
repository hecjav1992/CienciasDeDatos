{
 "cells": [
  {
   "cell_type": "code",
   "execution_count": 1,
   "id": "bf78b8bb",
   "metadata": {},
   "outputs": [],
   "source": [
    "import pandas as pd\n",
    "path=r\"C:\\Users\\Easy Data\\Downloads\\1000_nombres.xlsx\"\n",
    "df=pd.read_excel(path,sheet_name=\"Empleados\")\n",
    "dfproyecto=pd.read_excel(path,sheet_name=\"Proyectos\")\n"
   ]
  },
  {
   "cell_type": "code",
   "execution_count": 2,
   "id": "9d0fa745",
   "metadata": {},
   "outputs": [
    {
     "name": "stdout",
     "output_type": "stream",
     "text": [
      "628\n"
     ]
    },
    {
     "data": {
      "application/vnd.microsoft.datawrangler.viewer.v0+json": {
       "columns": [
        {
         "name": "index",
         "rawType": "int64",
         "type": "integer"
        },
        {
         "name": "Nombre",
         "rawType": "object",
         "type": "string"
        }
       ],
       "conversionMethod": "pd.DataFrame",
       "ref": "f1392d1e-ad38-4f8b-83e1-de0c699e223d",
       "rows": [
        [
         "0",
         "María Ramos"
        ],
        [
         "1",
         "Patricia García"
        ],
        [
         "2",
         "Ana López"
        ],
        [
         "3",
         "Elena Fernández"
        ],
        [
         "4",
         "Sofía Ortega"
        ],
        [
         "5",
         "Patricia López"
        ],
        [
         "6",
         "Adriana Silva"
        ],
        [
         "7",
         "Lucía Díaz"
        ],
        [
         "8",
         "Juan Ortega"
        ],
        [
         "9",
         "Jorge Vargas"
        ],
        [
         "10",
         "Fernando Fernández"
        ],
        [
         "11",
         "Adriana Gómez"
        ],
        [
         "12",
         "Luis Castro"
        ],
        [
         "13",
         "Fernando Hernández"
        ],
        [
         "14",
         "Miguel Gómez"
        ],
        [
         "15",
         "Raúl Vargas"
        ],
        [
         "16",
         "Pedro Silva"
        ],
        [
         "17",
         "Miguel Santos"
        ],
        [
         "18",
         "José López"
        ],
        [
         "19",
         "Laura Romero"
        ],
        [
         "20",
         "Pedro Fernández"
        ],
        [
         "21",
         "Luis Pérez"
        ],
        [
         "22",
         "Fernando Díaz"
        ],
        [
         "23",
         "Fernando Ramos"
        ],
        [
         "24",
         "Carlos Gómez"
        ],
        [
         "25",
         "Miguel Ramos"
        ],
        [
         "26",
         "Lucía Ramos"
        ],
        [
         "27",
         "Pedro Ortega"
        ],
        [
         "28",
         "Carmen García"
        ],
        [
         "29",
         "Sofía Ramos"
        ],
        [
         "30",
         "Fernando Romero"
        ],
        [
         "31",
         "Miguel Ortega"
        ],
        [
         "32",
         "Raúl Morales"
        ],
        [
         "33",
         "Andrés Díaz"
        ],
        [
         "34",
         "Jorge Silva"
        ],
        [
         "35",
         "Raúl Ortega"
        ],
        [
         "36",
         "Pedro Hernández"
        ],
        [
         "37",
         "Carmen Castro"
        ],
        [
         "38",
         "Sofía Romero"
        ],
        [
         "39",
         "María Fernández"
        ],
        [
         "40",
         "Andrés Hernández"
        ],
        [
         "41",
         "Carlos Fernández"
        ],
        [
         "42",
         "María Mendoza"
        ],
        [
         "43",
         "Pedro Ramos"
        ],
        [
         "44",
         "Carmen Díaz"
        ],
        [
         "45",
         "Lucía Castro"
        ],
        [
         "46",
         "Sofía Hernández"
        ],
        [
         "47",
         "Miguel Morales"
        ],
        [
         "48",
         "Elena Ortega"
        ],
        [
         "49",
         "Jorge Rodríguez"
        ]
       ],
       "shape": {
        "columns": 1,
        "rows": 372
       }
      },
      "text/html": [
       "<div>\n",
       "<style scoped>\n",
       "    .dataframe tbody tr th:only-of-type {\n",
       "        vertical-align: middle;\n",
       "    }\n",
       "\n",
       "    .dataframe tbody tr th {\n",
       "        vertical-align: top;\n",
       "    }\n",
       "\n",
       "    .dataframe thead th {\n",
       "        text-align: right;\n",
       "    }\n",
       "</style>\n",
       "<table border=\"1\" class=\"dataframe\">\n",
       "  <thead>\n",
       "    <tr style=\"text-align: right;\">\n",
       "      <th></th>\n",
       "      <th>Nombre</th>\n",
       "    </tr>\n",
       "  </thead>\n",
       "  <tbody>\n",
       "    <tr>\n",
       "      <th>0</th>\n",
       "      <td>María Ramos</td>\n",
       "    </tr>\n",
       "    <tr>\n",
       "      <th>1</th>\n",
       "      <td>Patricia García</td>\n",
       "    </tr>\n",
       "    <tr>\n",
       "      <th>2</th>\n",
       "      <td>Ana López</td>\n",
       "    </tr>\n",
       "    <tr>\n",
       "      <th>3</th>\n",
       "      <td>Elena Fernández</td>\n",
       "    </tr>\n",
       "    <tr>\n",
       "      <th>4</th>\n",
       "      <td>Sofía Ortega</td>\n",
       "    </tr>\n",
       "    <tr>\n",
       "      <th>...</th>\n",
       "      <td>...</td>\n",
       "    </tr>\n",
       "    <tr>\n",
       "      <th>953</th>\n",
       "      <td>Luis Rodríguez</td>\n",
       "    </tr>\n",
       "    <tr>\n",
       "      <th>961</th>\n",
       "      <td>Laura Martínez</td>\n",
       "    </tr>\n",
       "    <tr>\n",
       "      <th>972</th>\n",
       "      <td>Luis Santos</td>\n",
       "    </tr>\n",
       "    <tr>\n",
       "      <th>979</th>\n",
       "      <td>Lucía Hernández</td>\n",
       "    </tr>\n",
       "    <tr>\n",
       "      <th>986</th>\n",
       "      <td>Andrés Fernández</td>\n",
       "    </tr>\n",
       "  </tbody>\n",
       "</table>\n",
       "<p>372 rows × 1 columns</p>\n",
       "</div>"
      ],
      "text/plain": [
       "               Nombre\n",
       "0         María Ramos\n",
       "1     Patricia García\n",
       "2           Ana López\n",
       "3     Elena Fernández\n",
       "4        Sofía Ortega\n",
       "..                ...\n",
       "953    Luis Rodríguez\n",
       "961    Laura Martínez\n",
       "972       Luis Santos\n",
       "979   Lucía Hernández\n",
       "986  Andrés Fernández\n",
       "\n",
       "[372 rows x 1 columns]"
      ]
     },
     "execution_count": 2,
     "metadata": {},
     "output_type": "execute_result"
    }
   ],
   "source": [
    "print(df[\"Nombre\"].duplicated().sum())\n",
    "df.drop_duplicates(subset=\"Nombre\",keep=\"first\",inplace=True)\n",
    "df"
   ]
  },
  {
   "cell_type": "code",
   "execution_count": 3,
   "id": "e1265691",
   "metadata": {},
   "outputs": [],
   "source": [
    "df[\"id\"]=range(0,372)"
   ]
  },
  {
   "cell_type": "code",
   "execution_count": 4,
   "id": "b77650ac",
   "metadata": {},
   "outputs": [
    {
     "name": "stdout",
     "output_type": "stream",
     "text": [
      "Index(['Nombre', 'id'], dtype='object')\n"
     ]
    }
   ],
   "source": [
    "print(df.columns)"
   ]
  },
  {
   "cell_type": "code",
   "execution_count": 5,
   "id": "537bef90",
   "metadata": {},
   "outputs": [
    {
     "name": "stdout",
     "output_type": "stream",
     "text": [
      "[{'id': 0, 'nombre': 'María Ramos'}, {'id': 1, 'nombre': 'Patricia García'}, {'id': 2, 'nombre': 'Ana López'}, {'id': 3, 'nombre': 'Elena Fernández'}, {'id': 4, 'nombre': 'Sofía Ortega'}, {'id': 5, 'nombre': 'Patricia López'}, {'id': 6, 'nombre': 'Adriana Silva'}, {'id': 7, 'nombre': 'Lucía Díaz'}, {'id': 8, 'nombre': 'Juan Ortega'}, {'id': 9, 'nombre': 'Jorge Vargas'}, {'id': 10, 'nombre': 'Fernando Fernández'}, {'id': 11, 'nombre': 'Adriana Gómez'}, {'id': 12, 'nombre': 'Luis Castro'}, {'id': 13, 'nombre': 'Fernando Hernández'}, {'id': 14, 'nombre': 'Miguel Gómez'}, {'id': 15, 'nombre': 'Raúl Vargas'}, {'id': 16, 'nombre': 'Pedro Silva'}, {'id': 17, 'nombre': 'Miguel Santos'}, {'id': 18, 'nombre': 'José López'}, {'id': 19, 'nombre': 'Laura Romero'}, {'id': 20, 'nombre': 'Pedro Fernández'}, {'id': 21, 'nombre': 'Luis Pérez'}, {'id': 22, 'nombre': 'Fernando Díaz'}, {'id': 23, 'nombre': 'Fernando Ramos'}, {'id': 24, 'nombre': 'Carlos Gómez'}, {'id': 25, 'nombre': 'Miguel Ramos'}, {'id': 26, 'nombre': 'Lucía Ramos'}, {'id': 27, 'nombre': 'Pedro Ortega'}, {'id': 28, 'nombre': 'Carmen García'}, {'id': 29, 'nombre': 'Sofía Ramos'}, {'id': 30, 'nombre': 'Fernando Romero'}, {'id': 31, 'nombre': 'Miguel Ortega'}, {'id': 32, 'nombre': 'Raúl Morales'}, {'id': 33, 'nombre': 'Andrés Díaz'}, {'id': 34, 'nombre': 'Jorge Silva'}, {'id': 35, 'nombre': 'Raúl Ortega'}, {'id': 36, 'nombre': 'Pedro Hernández'}, {'id': 37, 'nombre': 'Carmen Castro'}, {'id': 38, 'nombre': 'Sofía Romero'}, {'id': 39, 'nombre': 'María Fernández'}, {'id': 40, 'nombre': 'Andrés Hernández'}, {'id': 41, 'nombre': 'Carlos Fernández'}, {'id': 42, 'nombre': 'María Mendoza'}, {'id': 43, 'nombre': 'Pedro Ramos'}, {'id': 44, 'nombre': 'Carmen Díaz'}, {'id': 45, 'nombre': 'Lucía Castro'}, {'id': 46, 'nombre': 'Sofía Hernández'}, {'id': 47, 'nombre': 'Miguel Morales'}, {'id': 48, 'nombre': 'Elena Ortega'}, {'id': 49, 'nombre': 'Jorge Rodríguez'}, {'id': 50, 'nombre': 'Juan Ramos'}, {'id': 51, 'nombre': 'Patricia Pérez'}, {'id': 52, 'nombre': 'Raúl Martínez'}, {'id': 53, 'nombre': 'José Díaz'}, {'id': 54, 'nombre': 'Adriana López'}, {'id': 55, 'nombre': 'Ricardo Martínez'}, {'id': 56, 'nombre': 'María Gómez'}, {'id': 57, 'nombre': 'Patricia Gómez'}, {'id': 58, 'nombre': 'Carmen Rodríguez'}, {'id': 59, 'nombre': 'Carmen Santos'}, {'id': 60, 'nombre': 'Andrés Silva'}, {'id': 61, 'nombre': 'José Santos'}, {'id': 62, 'nombre': 'Fernando Cortés'}, {'id': 63, 'nombre': 'Raúl Fernández'}, {'id': 64, 'nombre': 'Andrés García'}, {'id': 65, 'nombre': 'Ricardo Vargas'}, {'id': 66, 'nombre': 'Juan Martínez'}, {'id': 67, 'nombre': 'Elena Cortés'}, {'id': 68, 'nombre': 'Fernando López'}, {'id': 69, 'nombre': 'Raúl Romero'}, {'id': 70, 'nombre': 'José Castro'}, {'id': 71, 'nombre': 'Juan Gómez'}, {'id': 72, 'nombre': 'Laura Pérez'}, {'id': 73, 'nombre': 'Ricardo López'}, {'id': 74, 'nombre': 'Fernando Ruiz'}, {'id': 75, 'nombre': 'Carmen Gómez'}, {'id': 76, 'nombre': 'Elena Rodríguez'}, {'id': 77, 'nombre': 'Carmen Martínez'}, {'id': 78, 'nombre': 'Luis Fernández'}, {'id': 79, 'nombre': 'Juan Romero'}, {'id': 80, 'nombre': 'Miguel García'}, {'id': 81, 'nombre': 'Sofía Cortés'}, {'id': 82, 'nombre': 'Juan López'}, {'id': 83, 'nombre': 'Carlos Ruiz'}, {'id': 84, 'nombre': 'Jorge Castro'}, {'id': 85, 'nombre': 'Sofía Santos'}, {'id': 86, 'nombre': 'Adriana Martínez'}, {'id': 87, 'nombre': 'Jorge Ruiz'}, {'id': 88, 'nombre': 'Carmen Vargas'}, {'id': 89, 'nombre': 'Jorge Ortega'}, {'id': 90, 'nombre': 'Adriana Ramos'}, {'id': 91, 'nombre': 'Juan Rodríguez'}, {'id': 92, 'nombre': 'Jorge Gómez'}, {'id': 93, 'nombre': 'Fernando Pérez'}, {'id': 94, 'nombre': 'Ricardo Ramos'}, {'id': 95, 'nombre': 'Luis Gómez'}, {'id': 96, 'nombre': 'Lucía Silva'}, {'id': 97, 'nombre': 'María Díaz'}, {'id': 98, 'nombre': 'Carlos Mendoza'}, {'id': 99, 'nombre': 'Andrés Santos'}, {'id': 100, 'nombre': 'Lucía Vargas'}, {'id': 101, 'nombre': 'Lucía López'}, {'id': 102, 'nombre': 'Fernando Vargas'}, {'id': 103, 'nombre': 'Juan Díaz'}, {'id': 104, 'nombre': 'Miguel Hernández'}, {'id': 105, 'nombre': 'José Rodríguez'}, {'id': 106, 'nombre': 'Elena Martínez'}, {'id': 107, 'nombre': 'Ana Gómez'}, {'id': 108, 'nombre': 'Sofía López'}, {'id': 109, 'nombre': 'José Gómez'}, {'id': 110, 'nombre': 'Lucía Pérez'}, {'id': 111, 'nombre': 'Jorge Martínez'}, {'id': 112, 'nombre': 'Carmen Ortega'}, {'id': 113, 'nombre': 'Carmen Ramos'}, {'id': 114, 'nombre': 'Raúl Díaz'}, {'id': 115, 'nombre': 'Adriana Mendoza'}, {'id': 116, 'nombre': 'Fernando Rodríguez'}, {'id': 117, 'nombre': 'Juan Ruiz'}, {'id': 118, 'nombre': 'Patricia Díaz'}, {'id': 119, 'nombre': 'Lucía Fernández'}, {'id': 120, 'nombre': 'Elena Pérez'}, {'id': 121, 'nombre': 'Raúl Rodríguez'}, {'id': 122, 'nombre': 'Ricardo Ortega'}, {'id': 123, 'nombre': 'Patricia Vargas'}, {'id': 124, 'nombre': 'Carmen Pérez'}, {'id': 125, 'nombre': 'Adriana Cortés'}, {'id': 126, 'nombre': 'Ricardo Mendoza'}, {'id': 127, 'nombre': 'Sofía Castro'}, {'id': 128, 'nombre': 'Elena Ruiz'}, {'id': 129, 'nombre': 'Miguel Silva'}, {'id': 130, 'nombre': 'Lucía Morales'}, {'id': 131, 'nombre': 'Raúl Santos'}, {'id': 132, 'nombre': 'Ana Ramos'}, {'id': 133, 'nombre': 'Carlos Ortega'}, {'id': 134, 'nombre': 'Elena Hernández'}, {'id': 135, 'nombre': 'Patricia Ortega'}, {'id': 136, 'nombre': 'Miguel López'}, {'id': 137, 'nombre': 'Patricia Silva'}, {'id': 138, 'nombre': 'Patricia Martínez'}, {'id': 139, 'nombre': 'Laura Gómez'}, {'id': 140, 'nombre': 'Miguel Mendoza'}, {'id': 141, 'nombre': 'Carmen Cortés'}, {'id': 142, 'nombre': 'Luis Ramos'}, {'id': 143, 'nombre': 'Sofía Ruiz'}, {'id': 144, 'nombre': 'María Hernández'}, {'id': 145, 'nombre': 'José Pérez'}, {'id': 146, 'nombre': 'Juan García'}, {'id': 147, 'nombre': 'Adriana Ruiz'}, {'id': 148, 'nombre': 'Elena Morales'}, {'id': 149, 'nombre': 'Fernando Silva'}, {'id': 150, 'nombre': 'Juan Cortés'}, {'id': 151, 'nombre': 'Patricia Santos'}, {'id': 152, 'nombre': 'José García'}, {'id': 153, 'nombre': 'Ana Mendoza'}, {'id': 154, 'nombre': 'Fernando Santos'}, {'id': 155, 'nombre': 'Ana Ruiz'}, {'id': 156, 'nombre': 'Elena Díaz'}, {'id': 157, 'nombre': 'Andrés Ruiz'}, {'id': 158, 'nombre': 'Juan Vargas'}, {'id': 159, 'nombre': 'Carmen López'}, {'id': 160, 'nombre': 'Patricia Castro'}, {'id': 161, 'nombre': 'Sofía Martínez'}, {'id': 162, 'nombre': 'Jorge Cortés'}, {'id': 163, 'nombre': 'Adriana Vargas'}, {'id': 164, 'nombre': 'Pedro Rodríguez'}, {'id': 165, 'nombre': 'Juan Santos'}, {'id': 166, 'nombre': 'Sofía Silva'}, {'id': 167, 'nombre': 'Ana Morales'}, {'id': 168, 'nombre': 'Ana Pérez'}, {'id': 169, 'nombre': 'Lucía Romero'}, {'id': 170, 'nombre': 'Elena García'}, {'id': 171, 'nombre': 'Ana Vargas'}, {'id': 172, 'nombre': 'Pedro Ruiz'}, {'id': 173, 'nombre': 'Carlos Silva'}, {'id': 174, 'nombre': 'Andrés López'}, {'id': 175, 'nombre': 'Raúl Ramos'}, {'id': 176, 'nombre': 'Sofía Pérez'}, {'id': 177, 'nombre': 'Carlos Romero'}, {'id': 178, 'nombre': 'Ana Hernández'}, {'id': 179, 'nombre': 'José Hernández'}, {'id': 180, 'nombre': 'Pedro Morales'}, {'id': 181, 'nombre': 'Patricia Romero'}, {'id': 182, 'nombre': 'Adriana Rodríguez'}, {'id': 183, 'nombre': 'Jorge Díaz'}, {'id': 184, 'nombre': 'Carlos Santos'}, {'id': 185, 'nombre': 'Pedro López'}, {'id': 186, 'nombre': 'Jorge Ramos'}, {'id': 187, 'nombre': 'Sofía Morales'}, {'id': 188, 'nombre': 'Fernando Gómez'}, {'id': 189, 'nombre': 'Ricardo Díaz'}, {'id': 190, 'nombre': 'José Romero'}, {'id': 191, 'nombre': 'Elena Castro'}, {'id': 192, 'nombre': 'Luis Vargas'}, {'id': 193, 'nombre': 'José Cortés'}, {'id': 194, 'nombre': 'Pedro Santos'}, {'id': 195, 'nombre': 'Laura Mendoza'}, {'id': 196, 'nombre': 'Jorge Hernández'}, {'id': 197, 'nombre': 'Laura Ramos'}, {'id': 198, 'nombre': 'María Santos'}, {'id': 199, 'nombre': 'Luis López'}, {'id': 200, 'nombre': 'Pedro Vargas'}, {'id': 201, 'nombre': 'Fernando Castro'}, {'id': 202, 'nombre': 'Ana Silva'}, {'id': 203, 'nombre': 'Laura Ruiz'}, {'id': 204, 'nombre': 'Juan Fernández'}, {'id': 205, 'nombre': 'Luis Silva'}, {'id': 206, 'nombre': 'Patricia Ruiz'}, {'id': 207, 'nombre': 'Ana Díaz'}, {'id': 208, 'nombre': 'Adriana García'}, {'id': 209, 'nombre': 'Ana Castro'}, {'id': 210, 'nombre': 'Luis García'}, {'id': 211, 'nombre': 'Laura Vargas'}, {'id': 212, 'nombre': 'José Fernández'}, {'id': 213, 'nombre': 'Raúl Ruiz'}, {'id': 214, 'nombre': 'Andrés Vargas'}, {'id': 215, 'nombre': 'María Castro'}, {'id': 216, 'nombre': 'Raúl Pérez'}, {'id': 217, 'nombre': 'Ricardo Silva'}, {'id': 218, 'nombre': 'María Romero'}, {'id': 219, 'nombre': 'Adriana Ortega'}, {'id': 220, 'nombre': 'Miguel Martínez'}, {'id': 221, 'nombre': 'Ana Santos'}, {'id': 222, 'nombre': 'Fernando Ortega'}, {'id': 223, 'nombre': 'Patricia Fernández'}, {'id': 224, 'nombre': 'Andrés Martínez'}, {'id': 225, 'nombre': 'Carlos Castro'}, {'id': 226, 'nombre': 'Juan Pérez'}, {'id': 227, 'nombre': 'Fernando Martínez'}, {'id': 228, 'nombre': 'Andrés Rodríguez'}, {'id': 229, 'nombre': 'Jorge Fernández'}, {'id': 230, 'nombre': 'Pedro Mendoza'}, {'id': 231, 'nombre': 'Ricardo Gómez'}, {'id': 232, 'nombre': 'Luis Martínez'}, {'id': 233, 'nombre': 'Elena Mendoza'}, {'id': 234, 'nombre': 'Elena Ramos'}, {'id': 235, 'nombre': 'Fernando García'}, {'id': 236, 'nombre': 'Patricia Cortés'}, {'id': 237, 'nombre': 'Laura López'}, {'id': 238, 'nombre': 'Carmen Morales'}, {'id': 239, 'nombre': 'Miguel Rodríguez'}, {'id': 240, 'nombre': 'Jorge Romero'}, {'id': 241, 'nombre': 'Raúl Silva'}, {'id': 242, 'nombre': 'Jorge García'}, {'id': 243, 'nombre': 'Elena Santos'}, {'id': 244, 'nombre': 'Miguel Pérez'}, {'id': 245, 'nombre': 'Laura Díaz'}, {'id': 246, 'nombre': 'Carmen Hernández'}, {'id': 247, 'nombre': 'Carlos Rodríguez'}, {'id': 248, 'nombre': 'Sofía Fernández'}, {'id': 249, 'nombre': 'Ricardo Santos'}, {'id': 250, 'nombre': 'Jorge Morales'}, {'id': 251, 'nombre': 'María Morales'}, {'id': 252, 'nombre': 'Ana Martínez'}, {'id': 253, 'nombre': 'Fernando Morales'}, {'id': 254, 'nombre': 'Patricia Morales'}, {'id': 255, 'nombre': 'Raúl Cortés'}, {'id': 256, 'nombre': 'Pedro Gómez'}, {'id': 257, 'nombre': 'Laura Santos'}, {'id': 258, 'nombre': 'Lucía Ortega'}, {'id': 259, 'nombre': 'Elena Silva'}, {'id': 260, 'nombre': 'Luis Hernández'}, {'id': 261, 'nombre': 'Elena Vargas'}, {'id': 262, 'nombre': 'Sofía Mendoza'}, {'id': 263, 'nombre': 'Fernando Mendoza'}, {'id': 264, 'nombre': 'Ricardo Hernández'}, {'id': 265, 'nombre': 'Ana Rodríguez'}, {'id': 266, 'nombre': 'Laura Ortega'}, {'id': 267, 'nombre': 'Juan Castro'}, {'id': 268, 'nombre': 'Jorge Santos'}, {'id': 269, 'nombre': 'Carlos Martínez'}, {'id': 270, 'nombre': 'Ana Romero'}, {'id': 271, 'nombre': 'Ana Fernández'}, {'id': 272, 'nombre': 'Pedro Díaz'}, {'id': 273, 'nombre': 'Patricia Mendoza'}, {'id': 274, 'nombre': 'Raúl Castro'}, {'id': 275, 'nombre': 'José Morales'}, {'id': 276, 'nombre': 'Laura Fernández'}, {'id': 277, 'nombre': 'Andrés Morales'}, {'id': 278, 'nombre': 'María García'}, {'id': 279, 'nombre': 'Andrés Cortés'}, {'id': 280, 'nombre': 'Carlos García'}, {'id': 281, 'nombre': 'Jorge Pérez'}, {'id': 282, 'nombre': 'Carmen Romero'}, {'id': 283, 'nombre': 'Pedro Cortés'}, {'id': 284, 'nombre': 'Pedro Romero'}, {'id': 285, 'nombre': 'Miguel Fernández'}, {'id': 286, 'nombre': 'Ana Ortega'}, {'id': 287, 'nombre': 'Andrés Ortega'}, {'id': 288, 'nombre': 'Lucía Cortés'}, {'id': 289, 'nombre': 'Sofía García'}, {'id': 290, 'nombre': 'Patricia Hernández'}, {'id': 291, 'nombre': 'Raúl Gómez'}, {'id': 292, 'nombre': 'Laura Castro'}, {'id': 293, 'nombre': 'José Ruiz'}, {'id': 294, 'nombre': 'María Vargas'}, {'id': 295, 'nombre': 'Ricardo García'}, {'id': 296, 'nombre': 'José Martínez'}, {'id': 297, 'nombre': 'Ricardo Morales'}, {'id': 298, 'nombre': 'Miguel Cortés'}, {'id': 299, 'nombre': 'Adriana Morales'}, {'id': 300, 'nombre': 'Raúl Hernández'}, {'id': 301, 'nombre': 'Luis Cortés'}, {'id': 302, 'nombre': 'Lucía Ruiz'}, {'id': 303, 'nombre': 'María Ortega'}, {'id': 304, 'nombre': 'Carlos Morales'}, {'id': 305, 'nombre': 'Elena Romero'}, {'id': 306, 'nombre': 'Elena López'}, {'id': 307, 'nombre': 'Lucía Mendoza'}, {'id': 308, 'nombre': 'Ricardo Fernández'}, {'id': 309, 'nombre': 'Ricardo Pérez'}, {'id': 310, 'nombre': 'Elena Gómez'}, {'id': 311, 'nombre': 'Jorge López'}, {'id': 312, 'nombre': 'Lucía Santos'}, {'id': 313, 'nombre': 'Ricardo Rodríguez'}, {'id': 314, 'nombre': 'Luis Ruiz'}, {'id': 315, 'nombre': 'Patricia Rodríguez'}, {'id': 316, 'nombre': 'Luis Morales'}, {'id': 317, 'nombre': 'Ana García'}, {'id': 318, 'nombre': 'Raúl García'}, {'id': 319, 'nombre': 'María Pérez'}, {'id': 320, 'nombre': 'Lucía Martínez'}, {'id': 321, 'nombre': 'María Martínez'}, {'id': 322, 'nombre': 'Pedro Pérez'}, {'id': 323, 'nombre': 'Ricardo Cortés'}, {'id': 324, 'nombre': 'Pedro García'}, {'id': 325, 'nombre': 'Juan Silva'}, {'id': 326, 'nombre': 'Sofía Vargas'}, {'id': 327, 'nombre': 'Luis Díaz'}, {'id': 328, 'nombre': 'Miguel Romero'}, {'id': 329, 'nombre': 'Lucía Rodríguez'}, {'id': 330, 'nombre': 'Carlos Pérez'}, {'id': 331, 'nombre': 'Carlos Díaz'}, {'id': 332, 'nombre': 'Carlos López'}, {'id': 333, 'nombre': 'Carlos Ramos'}, {'id': 334, 'nombre': 'Miguel Díaz'}, {'id': 335, 'nombre': 'Raúl Mendoza'}, {'id': 336, 'nombre': 'Ricardo Romero'}, {'id': 337, 'nombre': 'Luis Mendoza'}, {'id': 338, 'nombre': 'María Silva'}, {'id': 339, 'nombre': 'Carmen Fernández'}, {'id': 340, 'nombre': 'Luis Romero'}, {'id': 341, 'nombre': 'Lucía García'}, {'id': 342, 'nombre': 'Carlos Cortés'}, {'id': 343, 'nombre': 'Luis Ortega'}, {'id': 344, 'nombre': 'Laura Rodríguez'}, {'id': 345, 'nombre': 'Laura Hernández'}, {'id': 346, 'nombre': 'Pedro Castro'}, {'id': 347, 'nombre': 'Adriana Fernández'}, {'id': 348, 'nombre': 'Carmen Mendoza'}, {'id': 349, 'nombre': 'Adriana Díaz'}, {'id': 350, 'nombre': 'Miguel Ruiz'}, {'id': 351, 'nombre': 'Andrés Gómez'}, {'id': 352, 'nombre': 'Raúl López'}, {'id': 353, 'nombre': 'Laura Silva'}, {'id': 354, 'nombre': 'José Mendoza'}, {'id': 355, 'nombre': 'Adriana Pérez'}, {'id': 356, 'nombre': 'Laura García'}, {'id': 357, 'nombre': 'María Rodríguez'}, {'id': 358, 'nombre': 'Adriana Hernández'}, {'id': 359, 'nombre': 'Andrés Romero'}, {'id': 360, 'nombre': 'Juan Hernández'}, {'id': 361, 'nombre': 'Juan Morales'}, {'id': 362, 'nombre': 'José Ortega'}, {'id': 363, 'nombre': 'Laura Cortés'}, {'id': 364, 'nombre': 'Adriana Romero'}, {'id': 365, 'nombre': 'Ricardo Castro'}, {'id': 366, 'nombre': 'Sofía Rodríguez'}, {'id': 367, 'nombre': 'Luis Rodríguez'}, {'id': 368, 'nombre': 'Laura Martínez'}, {'id': 369, 'nombre': 'Luis Santos'}, {'id': 370, 'nombre': 'Lucía Hernández'}, {'id': 371, 'nombre': 'Andrés Fernández'}]\n"
     ]
    }
   ],
   "source": [
    "users=[]\n",
    "for nombre,id in zip(df[\"Nombre\"],df[\"id\"]):\n",
    "    users.append({\"id\":id,\"nombre\":nombre})\n",
    "print(users)"
   ]
  },
  {
   "cell_type": "code",
   "execution_count": 6,
   "id": "5ae27d88",
   "metadata": {},
   "outputs": [
    {
     "name": "stdout",
     "output_type": "stream",
     "text": [
      "[185, 194, 54, 148, 285, 32, 33, 14, 56, 73, 9, 244, 165, 66, 61, 167, 135, 227, 117, 260, 203, 207, 62, 33, 24, 12, 208, 138, 64, 100, 48, 217, 106, 267, 9, 190, 27, 6, 122, 186, 249, 71, 66, 116, 42, 332, 172, 30, 209, 80, 131, 88, 16, 147, 255, 291, 48, 33, 227, 85, 88, 274, 147, 163, 134, 159, 87, 39, 88, 115, 175, 92, 48, 38, 75, 40, 174, 189, 54, 182, 72, 216, 166, 163, 113, 1, 239, 341, 182, 10, 157, 95, 172, 81, 81, 260, 103, 277, 23, 30, 10, 153, 163, 26, 189, 207, 39, 255, 47, 188, 10, 231, 328, 98, 35, 220, 62, 84, 240, 34, 274, 212, 120, 35, 130, 127, 57, 133, 45, 189, 50, 278, 101, 256, 293, 32, 154, 273, 109, 115, 56, 20, 169, 348, 141, 79, 12, 319, 130, 189, 190, 10, 18, 197, 131, 178, 14, 65, 88, 44, 28, 239, 81, 158, 124, 151, 105, 18, 166, 22, 352, 257, 29, 34, 5, 77, 266, 100, 75, 34, 6, 200, 224, 56, 47, 132, 49, 12, 252, 89, 26, 58, 39, 39, 184, 106, 39, 165, 59, 113, 89, 30, 0, 189, 142, 314, 243, 255, 147, 226, 30, 212, 34, 178, 57, 132, 107, 101, 117, 40, 82, 234, 29, 14, 13, 197, 91, 167, 17, 33, 201, 64, 91, 118, 259, 102, 291, 141, 322, 96, 4, 121, 32, 13, 260, 14, 249, 148, 55, 62, 7, 190, 222, 25, 122, 260, 163, 74, 156, 144, 45, 60, 3, 49, 53, 192, 43, 214, 213, 18, 211, 29, 153, 225, 227, 30, 194, 64, 103, 23, 78, 92, 142, 281, 195, 65, 80, 201, 70, 140, 54, 163, 133, 106, 224, 66, 134, 230, 87, 38, 172, 19, 72, 50, 6, 190, 0, 139, 20, 2, 81, 281, 39, 52, 268, 87, 102, 149, 158, 71, 129, 57, 124, 186, 163, 105, 54, 235, 243, 317, 264, 201, 133, 71, 178, 241, 6, 155, 104, 344, 84, 55, 277, 15, 235, 53, 277, 110, 200, 332, 209, 359, 248, 6, 297, 40, 125, 184, 20, 185, 82, 123, 89, 31, 156, 55, 242, 108, 127, 272, 244, 170, 84, 342, 95, 87, 6, 103, 170, 36, 20, 111, 220, 10, 45, 268, 158, 138, 14, 35, 224, 117, 189, 87, 28, 153, 317, 201, 165, 297, 13, 7, 88, 150, 75, 240, 26, 158, 23, 199, 96, 88, 292, 10, 159, 209, 159, 177, 214, 51, 257, 55, 62, 89, 172, 122, 203, 218, 218, 23, 55, 186, 111, 232, 225, 195, 189, 55, 186, 257, 244, 213, 55, 284, 167, 6, 90, 304, 263, 129, 22, 14, 233, 29, 189, 29, 30, 158, 177, 121, 151, 208, 159, 226, 128, 12, 104, 69, 181, 221, 29, 51, 57, 3, 274, 1, 175, 140, 131, 79, 15, 45, 239, 97, 23, 189, 80, 141, 170, 19, 271, 209, 36, 214, 102, 218, 122, 166, 91, 265]\n"
     ]
    }
   ],
   "source": [
    "listaDeGrupo=[]\n",
    "listaIntegrante1=[]\n",
    "\n",
    "for integrante in dfproyecto[\"Integrante 1\"]:\n",
    "    for use in users:\n",
    "        if integrante==use[\"nombre\"]:\n",
    "            listaIntegrante1.append(use[\"id\"])\n",
    "print(listaIntegrante1)\n",
    "dfproyecto[\"integranteId\"]=listaIntegrante1        \n"
   ]
  },
  {
   "cell_type": "code",
   "execution_count": 7,
   "id": "ccd10841",
   "metadata": {},
   "outputs": [
    {
     "name": "stdout",
     "output_type": "stream",
     "text": [
      "[159, 75, 268, 319, 366, 156, 267, 167, 71, 247, 354, 357, 75, 46, 129, 14, 338, 11, 19, 225, 115, 50, 215, 72, 110, 258, 296, 335, 243, 159, 229, 93, 250, 285, 228, 64, 87, 223, 103, 259, 261, 109, 259, 209, 177, 224, 353, 61, 256, 4, 134, 91, 249, 259, 40, 223, 238, 220, 84, 292, 204, 44, 190, 240, 351, 87, 63, 244, 207, 354, 117, 93, 89, 53, 225, 135, 256, 192, 164, 289, 110, 260, 203, 89, 310, 166, 114, 172, 216, 138, 305, 282, 253, 116, 203, 326, 284, 279, 113, 266, 189, 313, 202, 249, 40, 297, 235, 307, 295, 110, 109, 87, 333, 21, 279, 128, 268, 72, 282, 164, 166, 156, 14, 279, 12, 277, 322, 248, 279, 28, 20, 350, 61, 295, 150, 57, 190, 317, 322, 328, 108, 199, 328, 21, 295, 168, 250, 178, 156, 227, 244, 1, 135, 164, 164, 244, 183, 302, 176, 113, 248, 108, 109, 75, 361, 13, 169, 71, 211, 102, 313, 68, 66, 189, 214, 212, 62, 353, 276, 255, 298, 141, 259, 230, 110, 341, 170, 313, 323, 357, 224, 222, 220, 203, 64, 310, 30, 259, 40, 305, 97, 115, 78, 189, 231, 103, 297, 157, 80, 235, 45, 317, 274, 49, 224, 28, 75, 56, 61, 339, 152, 84, 103, 284, 312, 369, 20, 210, 347, 201, 276, 328, 321, 49, 309, 75, 138, 127, 342, 331, 273, 62, 135, 282, 250, 91, 318, 333, 206, 322, 285, 40, 274, 128, 148, 66, 249, 180, 74, 267, 30, 116, 116, 115, 331, 232, 226, 220, 44, 267, 43, 333, 12, 155, 9, 81, 246, 259, 170, 235, 333, 93, 44, 231, 66, 246, 135, 154, 153, 137, 35, 223, 41, 141, 353, 94, 121, 365, 130, 297, 19, 75, 280, 303, 111, 62, 248, 223, 305, 33, 5, 228, 315, 155, 300, 64, 327, 291, 103, 56, 135, 87, 84, 231, 242, 224, 35, 48, 43, 329, 247, 51, 223, 297, 236, 190, 217, 166, 295, 111, 231, 189, 228, 274, 212, 224, 135, 50, 203, 26, 353, 31, 227, 184, 87, 151, 282, 241, 178, 230, 189, 61, 162, 173, 362, 309, 342, 219, 363, 220, 106, 92, 20, 71, 287, 151, 255, 66, 338, 251, 170, 263, 209, 355, 59, 40, 255, 354, 308, 315, 214, 225, 291, 312, 349, 120, 127, 351, 74, 353, 50, 316, 193, 163, 57, 230, 34, 166, 53, 369, 285, 220, 127, 57, 302, 45, 55, 257, 366, 287, 9, 214, 49, 223, 273, 71, 255, 266, 89, 163, 272, 41, 196, 41, 329, 154, 9, 292, 40, 358, 292, 208, 317, 199, 75, 134, 74, 327, 284, 333, 231, 67, 180, 198, 243, 62, 358, 189, 327, 324, 226, 29, 294, 167, 149, 241, 73, 272, 266, 45, 49, 275, 361, 132, 226, 193, 113, 249, 313, 116, 135, 201, 135, 346, 108, 61, 12, 243, 118, 327, 147, 127, 103, 220, 201, 173, 63, 15, 223, 40]\n"
     ]
    }
   ],
   "source": [
    "listaIntegrante2=[]\n",
    "for integrante in dfproyecto[\"Integrante 2\"]:\n",
    "    for use in users:\n",
    "        if integrante==use[\"nombre\"]:\n",
    "            listaIntegrante2.append(use[\"id\"])\n",
    "print(listaIntegrante2)\n",
    "dfproyecto[\"integranteId2\"]=listaIntegrante2"
   ]
  },
  {
   "cell_type": "code",
   "execution_count": 8,
   "id": "8eafebcb",
   "metadata": {},
   "outputs": [
    {
     "name": "stdout",
     "output_type": "stream",
     "text": [
      "[(185, 159), (194, 75), (54, 268), (148, 319), (285, 366), (32, 156), (33, 267), (14, 167), (56, 71), (73, 247), (9, 354), (244, 357), (165, 75), (66, 46), (61, 129), (167, 14), (135, 338), (227, 11), (117, 19), (260, 225), (203, 115), (207, 50), (62, 215), (33, 72), (24, 110), (12, 258), (208, 296), (138, 335), (64, 243), (100, 159), (48, 229), (217, 93), (106, 250), (267, 285), (9, 228), (190, 64), (27, 87), (6, 223), (122, 103), (186, 259), (249, 261), (71, 109), (66, 259), (116, 209), (42, 177), (332, 224), (172, 353), (30, 61), (209, 256), (80, 4), (131, 134), (88, 91), (16, 249), (147, 259), (255, 40), (291, 223), (48, 238), (33, 220), (227, 84), (85, 292), (88, 204), (274, 44), (147, 190), (163, 240), (134, 351), (159, 87), (87, 63), (39, 244), (88, 207), (115, 354), (175, 117), (92, 93), (48, 89), (38, 53), (75, 225), (40, 135), (174, 256), (189, 192), (54, 164), (182, 289), (72, 110), (216, 260), (166, 203), (163, 89), (113, 310), (1, 166), (239, 114), (341, 172), (182, 216), (10, 138), (157, 305), (95, 282), (172, 253), (81, 116), (81, 203), (260, 326), (103, 284), (277, 279), (23, 113), (30, 266), (10, 189), (153, 313), (163, 202), (26, 249), (189, 40), (207, 297), (39, 235), (255, 307), (47, 295), (188, 110), (10, 109), (231, 87), (328, 333), (98, 21), (35, 279), (220, 128), (62, 268), (84, 72), (240, 282), (34, 164), (274, 166), (212, 156), (120, 14), (35, 279), (130, 12), (127, 277), (57, 322), (133, 248), (45, 279), (189, 28), (50, 20), (278, 350), (101, 61), (256, 295), (293, 150), (32, 57), (154, 190), (273, 317), (109, 322), (115, 328), (56, 108), (20, 199), (169, 328), (348, 21), (141, 295), (79, 168), (12, 250), (319, 178), (130, 156), (189, 227), (190, 244), (10, 1), (18, 135), (197, 164), (131, 164), (178, 244), (14, 183), (65, 302), (88, 176), (44, 113), (28, 248), (239, 108), (81, 109), (158, 75), (124, 361), (151, 13), (105, 169), (18, 71), (166, 211), (22, 102), (352, 313), (257, 68), (29, 66), (34, 189), (5, 214), (77, 212), (266, 62), (100, 353), (75, 276), (34, 255), (6, 298), (200, 141), (224, 259), (56, 230), (47, 110), (132, 341), (49, 170), (12, 313), (252, 323), (89, 357), (26, 224), (58, 222), (39, 220), (39, 203), (184, 64), (106, 310), (39, 30), (165, 259), (59, 40), (113, 305), (89, 97), (30, 115), (0, 78), (189, 189), (142, 231), (314, 103), (243, 297), (255, 157), (147, 80), (226, 235), (30, 45), (212, 317), (34, 274), (178, 49), (57, 224), (132, 28), (107, 75), (101, 56), (117, 61), (40, 339), (82, 152), (234, 84), (29, 103), (14, 284), (13, 312), (197, 369), (91, 20), (167, 210), (17, 347), (33, 201), (201, 276), (64, 328), (91, 321), (118, 49), (259, 309), (102, 75), (291, 138), (141, 127), (322, 342), (96, 331), (4, 273), (121, 62), (32, 135), (13, 282), (260, 250), (14, 91), (249, 318), (148, 333), (55, 206), (62, 322), (7, 285), (190, 40), (222, 274), (25, 128), (122, 148), (260, 66), (163, 249), (74, 180), (156, 74), (144, 267), (45, 30), (60, 116), (3, 116), (49, 115), (53, 331), (192, 232), (43, 226), (214, 220), (213, 44), (18, 267), (211, 43), (29, 333), (153, 12), (225, 155), (227, 9), (30, 81), (194, 246), (64, 259), (103, 170), (23, 235), (78, 333), (92, 93), (142, 44), (281, 231), (195, 66), (65, 246), (80, 135), (201, 154), (70, 153), (140, 137), (54, 35), (163, 223), (133, 41), (106, 141), (224, 353), (66, 94), (134, 121), (230, 365), (87, 130), (38, 297), (172, 19), (19, 75), (72, 280), (50, 303), (6, 111), (190, 62), (0, 248), (139, 223), (20, 305), (2, 33), (81, 5), (281, 228), (39, 315), (52, 155), (268, 300), (87, 64), (102, 327), (149, 291), (158, 103), (71, 56), (129, 135), (57, 87), (124, 84), (186, 231), (163, 242), (105, 224), (54, 35), (235, 48), (243, 43), (317, 329), (264, 247), (201, 51), (133, 223), (71, 297), (178, 236), (241, 190), (6, 217), (155, 166), (104, 295), (344, 111), (84, 231), (55, 189), (277, 228), (15, 274), (235, 212), (53, 224), (277, 135), (110, 50), (200, 203), (332, 26), (209, 353), (359, 31), (248, 227), (6, 184), (297, 87), (40, 151), (125, 282), (184, 241), (20, 178), (185, 230), (82, 189), (123, 61), (89, 162), (31, 173), (156, 362), (55, 309), (242, 342), (108, 219), (127, 363), (272, 220), (244, 106), (170, 92), (84, 20), (342, 71), (95, 287), (87, 151), (6, 255), (103, 66), (170, 338), (36, 251), (20, 170), (111, 263), (220, 209), (10, 355), (45, 59), (268, 40), (158, 255), (138, 354), (14, 308), (35, 315), (224, 214), (117, 225), (189, 291), (87, 312), (28, 349), (153, 120), (317, 127), (201, 351), (165, 74), (297, 353), (13, 50), (7, 316), (88, 193), (150, 163), (75, 57), (240, 230), (26, 34), (158, 166), (23, 53), (199, 369), (96, 285), (88, 220), (292, 127), (10, 57), (159, 302), (209, 45), (159, 55), (177, 257), (214, 366), (51, 287), (257, 9), (55, 214), (62, 49), (89, 223), (172, 273), (122, 71), (203, 255), (218, 266), (218, 89), (23, 163), (55, 272), (186, 41), (111, 196), (232, 41), (225, 329), (195, 154), (189, 9), (55, 292), (186, 40), (257, 358), (244, 292), (213, 208), (55, 317), (284, 199), (167, 75), (6, 134), (90, 74), (304, 327), (263, 284), (129, 333), (22, 231), (14, 67), (233, 180), (29, 198), (189, 243), (29, 62), (30, 358), (158, 189), (177, 327), (121, 324), (151, 226), (208, 29), (159, 294), (226, 167), (128, 149), (12, 241), (104, 73), (69, 272), (181, 266), (221, 45), (29, 49), (51, 275), (57, 361), (3, 132), (274, 226), (1, 193), (175, 113), (140, 249), (131, 313), (79, 116), (15, 135), (45, 201), (239, 135), (97, 346), (23, 108), (189, 61), (80, 12), (141, 243), (170, 118), (19, 327), (271, 147), (209, 127), (36, 103), (214, 220), (102, 201), (218, 173), (122, 63), (166, 15), (91, 223), (265, 40)]\n"
     ]
    }
   ],
   "source": [
    "for i,j in zip(dfproyecto[\"integranteId\"],dfproyecto[\"integranteId2\"]):\n",
    "    listaDeGrupo.append((i,j))\n",
    "print(listaDeGrupo)"
   ]
  },
  {
   "cell_type": "code",
   "execution_count": 9,
   "id": "9c904927",
   "metadata": {},
   "outputs": [
    {
     "name": "stdout",
     "output_type": "stream",
     "text": [
      "{0: [], 1: [], 2: [], 3: [], 4: [], 5: [], 6: [], 7: [], 8: [], 9: [], 10: [], 11: [], 12: [], 13: [], 14: [], 15: [], 16: [], 17: [], 18: [], 19: [], 20: [], 21: [], 22: [], 23: [], 24: [], 25: [], 26: [], 27: [], 28: [], 29: [], 30: [], 31: [], 32: [], 33: [], 34: [], 35: [], 36: [], 37: [], 38: [], 39: [], 40: [], 41: [], 42: [], 43: [], 44: [], 45: [], 46: [], 47: [], 48: [], 49: [], 50: [], 51: [], 52: [], 53: [], 54: [], 55: [], 56: [], 57: [], 58: [], 59: [], 60: [], 61: [], 62: [], 63: [], 64: [], 65: [], 66: [], 67: [], 68: [], 69: [], 70: [], 71: [], 72: [], 73: [], 74: [], 75: [], 76: [], 77: [], 78: [], 79: [], 80: [], 81: [], 82: [], 83: [], 84: [], 85: [], 86: [], 87: [], 88: [], 89: [], 90: [], 91: [], 92: [], 93: [], 94: [], 95: [], 96: [], 97: [], 98: [], 99: [], 100: [], 101: [], 102: [], 103: [], 104: [], 105: [], 106: [], 107: [], 108: [], 109: [], 110: [], 111: [], 112: [], 113: [], 114: [], 115: [], 116: [], 117: [], 118: [], 119: [], 120: [], 121: [], 122: [], 123: [], 124: [], 125: [], 126: [], 127: [], 128: [], 129: [], 130: [], 131: [], 132: [], 133: [], 134: [], 135: [], 136: [], 137: [], 138: [], 139: [], 140: [], 141: [], 142: [], 143: [], 144: [], 145: [], 146: [], 147: [], 148: [], 149: [], 150: [], 151: [], 152: [], 153: [], 154: [], 155: [], 156: [], 157: [], 158: [], 159: [], 160: [], 161: [], 162: [], 163: [], 164: [], 165: [], 166: [], 167: [], 168: [], 169: [], 170: [], 171: [], 172: [], 173: [], 174: [], 175: [], 176: [], 177: [], 178: [], 179: [], 180: [], 181: [], 182: [], 183: [], 184: [], 185: [], 186: [], 187: [], 188: [], 189: [], 190: [], 191: [], 192: [], 193: [], 194: [], 195: [], 196: [], 197: [], 198: [], 199: [], 200: [], 201: [], 202: [], 203: [], 204: [], 205: [], 206: [], 207: [], 208: [], 209: [], 210: [], 211: [], 212: [], 213: [], 214: [], 215: [], 216: [], 217: [], 218: [], 219: [], 220: [], 221: [], 222: [], 223: [], 224: [], 225: [], 226: [], 227: [], 228: [], 229: [], 230: [], 231: [], 232: [], 233: [], 234: [], 235: [], 236: [], 237: [], 238: [], 239: [], 240: [], 241: [], 242: [], 243: [], 244: [], 245: [], 246: [], 247: [], 248: [], 249: [], 250: [], 251: [], 252: [], 253: [], 254: [], 255: [], 256: [], 257: [], 258: [], 259: [], 260: [], 261: [], 262: [], 263: [], 264: [], 265: [], 266: [], 267: [], 268: [], 269: [], 270: [], 271: [], 272: [], 273: [], 274: [], 275: [], 276: [], 277: [], 278: [], 279: [], 280: [], 281: [], 282: [], 283: [], 284: [], 285: [], 286: [], 287: [], 288: [], 289: [], 290: [], 291: [], 292: [], 293: [], 294: [], 295: [], 296: [], 297: [], 298: [], 299: [], 300: [], 301: [], 302: [], 303: [], 304: [], 305: [], 306: [], 307: [], 308: [], 309: [], 310: [], 311: [], 312: [], 313: [], 314: [], 315: [], 316: [], 317: [], 318: [], 319: [], 320: [], 321: [], 322: [], 323: [], 324: [], 325: [], 326: [], 327: [], 328: [], 329: [], 330: [], 331: [], 332: [], 333: [], 334: [], 335: [], 336: [], 337: [], 338: [], 339: [], 340: [], 341: [], 342: [], 343: [], 344: [], 345: [], 346: [], 347: [], 348: [], 349: [], 350: [], 351: [], 352: [], 353: [], 354: [], 355: [], 356: [], 357: [], 358: [], 359: [], 360: [], 361: [], 362: [], 363: [], 364: [], 365: [], 366: [], 367: [], 368: [], 369: [], 370: [], 371: []}\n"
     ]
    }
   ],
   "source": [
    "DiccionarioDeConexion={user[\"id\"]:[] for user in users}\n",
    "print(DiccionarioDeConexion)"
   ]
  },
  {
   "cell_type": "code",
   "execution_count": 10,
   "id": "78cf01ed",
   "metadata": {},
   "outputs": [
    {
     "name": "stdout",
     "output_type": "stream",
     "text": [
      "{0: [78, 248], 1: [166, 10, 193], 2: [33], 3: [116, 132], 4: [80, 273], 5: [214, 81], 6: [223, 298, 111, 217, 184, 255, 134], 7: [285, 316], 8: [], 9: [354, 228, 227, 257, 189], 10: [138, 189, 109, 1, 355, 57], 11: [227], 12: [258, 130, 250, 313, 153, 241, 80], 13: [151, 312, 282, 50], 14: [167, 167, 120, 183, 284, 91, 308, 67], 15: [274, 135, 166], 16: [249], 17: [347], 18: [135, 71, 267], 19: [117, 172, 75, 327], 20: [50, 199, 91, 305, 178, 84, 170], 21: [98, 348], 22: [102, 231], 23: [113, 235, 53, 163, 108], 24: [110], 25: [128], 26: [249, 224, 332, 34], 27: [87], 28: [189, 248, 132, 349], 29: [66, 103, 333, 198, 62, 208, 49], 30: [61, 266, 39, 115, 45, 45, 81, 358], 31: [359, 173], 32: [156, 57, 135], 33: [267, 72, 220, 201, 2], 34: [164, 189, 255, 274, 26], 35: [279, 279, 54, 54, 315], 36: [251, 103], 37: [], 38: [53, 297], 39: [244, 235, 220, 203, 30, 315], 40: [255, 135, 189, 59, 339, 190, 151, 268, 186, 265], 41: [133, 186, 232], 42: [177], 43: [226, 211, 243], 44: [274, 113, 213, 142], 45: [279, 30, 30, 59, 209, 221, 201], 46: [66], 47: [295, 110], 48: [229, 238, 89, 235], 49: [170, 178, 118, 115, 62, 29], 50: [207, 20, 303, 110, 13], 51: [201, 287, 275], 52: [155], 53: [38, 331, 224, 23], 54: [268, 164, 35, 35], 55: [206, 189, 309, 159, 214, 272, 292, 317], 56: [71, 108, 230, 101, 71], 57: [322, 32, 224, 87, 75, 10, 361], 58: [222], 59: [40, 45], 60: [116], 61: [129, 30, 101, 117, 123, 189], 62: [215, 268, 266, 121, 322, 190, 49, 29], 63: [87, 122], 64: [243, 190, 184, 328, 259, 87], 65: [302, 246], 66: [46, 259, 29, 260, 195, 94, 103], 67: [14], 68: [257], 69: [272], 70: [153], 71: [56, 109, 18, 56, 297, 342, 122], 72: [33, 110, 84, 280], 73: [247, 104], 74: [180, 156, 165, 90], 75: [194, 165, 225, 158, 276, 107, 102, 19, 57, 167], 76: [], 77: [212], 78: [0, 333], 79: [168, 116], 80: [4, 147, 135, 12], 81: [116, 203, 109, 30, 5], 82: [152, 189], 83: [], 84: [227, 72, 234, 124, 231, 20], 85: [292], 86: [], 87: [27, 159, 63, 231, 130, 64, 57, 297, 151, 312], 88: [91, 204, 207, 176, 193, 220], 89: [48, 163, 357, 97, 162, 223, 218], 90: [74], 91: [88, 20, 321, 14, 223], 92: [93, 93, 170], 93: [217, 92, 92], 94: [66], 95: [282, 287], 96: [331, 285], 97: [89, 346], 98: [21], 99: [], 100: [159, 353], 101: [61, 56], 102: [22, 75, 327, 201], 103: [122, 284, 314, 29, 170, 158, 66, 36], 104: [295, 73], 105: [169, 224], 106: [250, 310, 141, 244], 107: [75], 108: [56, 239, 219, 23], 109: [71, 10, 322, 81], 110: [24, 72, 188, 47, 50], 111: [6, 344, 263, 196], 112: [], 113: [310, 23, 44, 305, 175], 114: [239], 115: [203, 354, 328, 30, 49], 116: [209, 81, 60, 3, 79], 117: [19, 175, 61, 225], 118: [49, 170], 119: [], 120: [14, 153], 121: [62, 134, 324], 122: [103, 148, 71, 63], 123: [61], 124: [361, 84], 125: [282], 126: [], 127: [277, 141, 363, 317, 292, 209], 128: [220, 25, 149], 129: [61, 135, 333], 130: [12, 156, 87], 131: [134, 164, 313], 132: [341, 28, 3], 133: [248, 41, 223], 134: [131, 351, 121, 6], 135: [338, 40, 18, 32, 80, 129, 277, 15, 239], 136: [], 137: [140], 138: [335, 10, 291, 354], 139: [223], 140: [137, 249], 141: [295, 200, 127, 106, 243], 142: [231, 44], 143: [], 144: [267], 145: [], 146: [], 147: [259, 190, 80, 271], 148: [319, 333, 122], 149: [291, 128], 150: [293, 163], 151: [13, 40, 87, 226], 152: [82], 153: [313, 12, 70, 120], 154: [190, 201, 195], 155: [225, 52, 166], 156: [32, 212, 130, 74, 362], 157: [305, 255], 158: [75, 103, 255, 166, 189], 159: [185, 100, 87, 302, 55, 294], 160: [], 161: [], 162: [89], 163: [240, 89, 202, 249, 223, 242, 150, 23], 164: [54, 34, 197, 131], 165: [75, 259, 74], 166: [203, 1, 274, 211, 155, 158, 15], 167: [14, 14, 210, 75, 226], 168: [79], 169: [328, 105], 170: [49, 103, 92, 338, 20, 118], 171: [], 172: [353, 341, 253, 19, 273], 173: [31, 218], 174: [256], 175: [117, 113], 176: [88], 177: [42, 257, 327], 178: [319, 244, 49, 236, 20], 179: [], 180: [74, 233], 181: [266], 182: [289, 216], 183: [14], 184: [64, 6, 241], 185: [159, 230], 186: [259, 231, 41, 40], 187: [], 188: [110], 189: [192, 10, 40, 28, 227, 34, 189, 189, 55, 82, 291, 9, 243, 158, 61], 190: [64, 147, 154, 244, 40, 62, 241], 191: [], 192: [189, 232], 193: [88, 1], 194: [75, 246], 195: [66, 154], 196: [111], 197: [164, 369], 198: [29], 199: [20, 369, 284], 200: [141, 203], 201: [33, 276, 154, 51, 351, 45, 102], 202: [163], 203: [115, 166, 81, 39, 200, 255], 204: [88], 205: [], 206: [55], 207: [50, 88, 297], 208: [296, 213, 29], 209: [116, 256, 353, 220, 45, 127], 210: [167], 211: [166, 43], 212: [156, 77, 317, 235], 213: [44, 208], 214: [5, 220, 224, 366, 55, 220], 215: [62], 216: [260, 182], 217: [93, 6], 218: [266, 89, 173], 219: [108], 220: [33, 128, 39, 214, 272, 209, 88, 214], 221: [45], 222: [58, 274], 223: [6, 291, 163, 139, 133, 89, 91], 224: [332, 259, 26, 57, 353, 105, 53, 214], 225: [260, 75, 155, 117, 329], 226: [235, 43, 151, 167, 274], 227: [11, 84, 189, 9, 248], 228: [9, 281, 277], 229: [48], 230: [56, 365, 185, 240], 231: [87, 142, 281, 186, 84, 22], 232: [192, 41], 233: [180], 234: [84], 235: [39, 226, 23, 48, 212], 236: [178], 237: [], 238: [48], 239: [114, 108, 135], 240: [163, 282, 230], 241: [190, 184, 12], 242: [163, 342], 243: [64, 297, 43, 189, 141], 244: [357, 39, 190, 178, 106, 292], 245: [], 246: [194, 65], 247: [73, 264], 248: [133, 28, 0, 227], 249: [261, 16, 26, 318, 163, 140], 250: [106, 12, 260], 251: [36], 252: [323], 253: [172], 254: [], 255: [40, 307, 34, 157, 6, 158, 203], 256: [209, 174, 295], 257: [68, 177, 9, 358], 258: [12], 259: [186, 66, 147, 224, 165, 309, 64], 260: [225, 216, 326, 250, 66], 261: [249], 262: [], 263: [111, 284], 264: [247], 265: [40], 266: [30, 62, 218, 181], 267: [33, 285, 144, 18], 268: [54, 62, 300, 40], 269: [], 270: [], 271: [147], 272: [220, 55, 69], 273: [317, 4, 172], 274: [44, 166, 34, 222, 15, 226], 275: [51], 276: [75, 201], 277: [279, 127, 228, 135], 278: [350], 279: [277, 35, 35, 45], 280: [72], 281: [231, 228], 282: [95, 240, 13, 125], 283: [], 284: [103, 14, 199, 263], 285: [366, 267, 7, 96], 286: [], 287: [95, 51], 288: [], 289: [182], 290: [], 291: [223, 138, 149, 189], 292: [85, 127, 55, 244], 293: [150], 294: [159], 295: [47, 256, 141, 104], 296: [208], 297: [207, 243, 38, 71, 87, 353], 298: [6], 299: [], 300: [268], 301: [], 302: [65, 159], 303: [50], 304: [327], 305: [157, 113, 20], 306: [], 307: [255], 308: [14], 309: [259, 55], 310: [113, 106], 311: [], 312: [13, 87], 313: [153, 352, 12, 131], 314: [103], 315: [39, 35], 316: [7], 317: [273, 212, 329, 127, 55], 318: [249], 319: [148, 178], 320: [], 321: [91], 322: [57, 109, 342, 62], 323: [252], 324: [121], 325: [], 326: [260], 327: [102, 304, 177, 19], 328: [333, 115, 169, 64], 329: [317, 225], 330: [], 331: [96, 53], 332: [224, 26], 333: [328, 148, 29, 78, 129], 334: [], 335: [138], 336: [], 337: [], 338: [135, 170], 339: [40], 340: [], 341: [172, 132], 342: [322, 242, 71], 343: [], 344: [111], 345: [], 346: [97], 347: [17], 348: [21], 349: [28], 350: [278], 351: [134, 201], 352: [313], 353: [172, 100, 224, 209, 297], 354: [9, 115, 138], 355: [10], 356: [], 357: [244, 89], 358: [257, 30], 359: [31], 360: [], 361: [124, 57], 362: [156], 363: [127], 364: [], 365: [230], 366: [285, 214], 367: [], 368: [], 369: [197, 199], 370: [], 371: []}\n"
     ]
    }
   ],
   "source": [
    "for x,y in listaDeGrupo:\n",
    "    DiccionarioDeConexion[x].append(y)\n",
    "    DiccionarioDeConexion[y].append(x)\n",
    "print(DiccionarioDeConexion)"
   ]
  }
 ],
 "metadata": {
  "kernelspec": {
   "display_name": "base",
   "language": "python",
   "name": "python3"
  },
  "language_info": {
   "codemirror_mode": {
    "name": "ipython",
    "version": 3
   },
   "file_extension": ".py",
   "mimetype": "text/x-python",
   "name": "python",
   "nbconvert_exporter": "python",
   "pygments_lexer": "ipython3",
   "version": "3.12.4"
  }
 },
 "nbformat": 4,
 "nbformat_minor": 5
}
