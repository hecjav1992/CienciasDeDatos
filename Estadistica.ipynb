{
 "cells": [
  {
   "cell_type": "markdown",
   "id": "243d2ae0",
   "metadata": {},
   "source": [
    "Media Aritmética (Mean)\n"
   ]
  },
  {
   "cell_type": "code",
   "execution_count": 2,
   "id": "a13c1500",
   "metadata": {},
   "outputs": [
    {
     "name": "stdout",
     "output_type": "stream",
     "text": [
      "3.0\n"
     ]
    }
   ],
   "source": [
    "xs= [1.0,2.0,3.0,4.0,5.0]\n",
    "def mean(xs: list[float]) -> float:\n",
    "    return sum(xs) / len(xs)\n",
    "\n",
    "print(mean(xs))"
   ]
  },
  {
   "cell_type": "code",
   "execution_count": 7,
   "id": "35116801",
   "metadata": {},
   "outputs": [
    {
     "name": "stdout",
     "output_type": "stream",
     "text": [
      "5\n"
     ]
    }
   ],
   "source": [
    "num_friends = [1, 10,2, 9, 5] \n",
    "def _median_odd(xs: list[float]) -> float:\n",
    "    return sorted(xs)[len(xs) // 2]\n",
    "\n",
    "#####################################################\n",
    "def _median_even(xs: list[float]) -> float:\n",
    "    sorted_xs = sorted(xs) #1,2,5,9,\n",
    "    hi_midpoint = len(xs) // 2 \n",
    "    return (sorted_xs[hi_midpoint - 1] + sorted_xs[hi_midpoint]) / 2  \n",
    "#####################################################        \n",
    "def median(v: list[float]) -> float:\n",
    "    return _median_even(v) if len(v) % 2 == 0 else _median_odd(v)\n",
    "\n",
    "print(median(num_friends))"
   ]
  },
  {
   "cell_type": "code",
   "execution_count": null,
   "id": "f3bc254d",
   "metadata": {},
   "outputs": [
    {
     "name": "stdout",
     "output_type": "stream",
     "text": [
      "211\n",
      "[-4.4, 4.6, -3.4000000000000004, 3.5999999999999996, -0.40000000000000036]\n"
     ]
    }
   ],
   "source": [
    "from statistics import mean\n",
    "from turtle import dot\n",
    "\n",
    "def sum_of_squares(xs: list[float]) -> float:\n",
    "    return sum(x ** 2 for x in xs)\n",
    "\n",
    "def de_mean(xs: list[float]) -> list[float]:\n",
    "    x_bar = mean(xs) # X1\n",
    "    return [x-x_bar for x in xs]\n",
    "\n",
    "def variance(xs: list[float]) -> float:\n",
    "    n = len(xs)\n",
    "    deviations = de_mean(xs)\n",
    "    return sum_of_squares(deviations) /(n)\n",
    "\n",
    "import math\n",
    "def standard_deviation(xs: list[float]) -> float:\n",
    "    return math.sqrt(variance(xs))"
   ]
  }
 ],
 "metadata": {
  "kernelspec": {
   "display_name": "base",
   "language": "python",
   "name": "python3"
  },
  "language_info": {
   "codemirror_mode": {
    "name": "ipython",
    "version": 3
   },
   "file_extension": ".py",
   "mimetype": "text/x-python",
   "name": "python",
   "nbconvert_exporter": "python",
   "pygments_lexer": "ipython3",
   "version": "3.12.4"
  }
 },
 "nbformat": 4,
 "nbformat_minor": 5
}
