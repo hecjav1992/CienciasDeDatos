{
 "cells": [
  {
   "cell_type": "code",
   "execution_count": 16,
   "id": "9131eea0",
   "metadata": {},
   "outputs": [],
   "source": [
    "users = [\n",
    "{ \"id\": 0, \"name\": \"Samuel\" },\n",
    "{ \"id\": 1, \"name\": \"Gantes\" },\n",
    "{ \"id\": 2, \"name\": \"Menesess\" },\n",
    "{ \"id\": 3, \"name\": \"Ariel\" },\n",
    "{ \"id\": 4, \"name\": \"Vasquez\" },\n",
    "{ \"id\": 5, \"name\": \"Justin\" },\n",
    "{ \"id\": 6, \"name\": \"Hicks\" },\n",
    "{ \"id\": 7, \"name\": \"Devin\" },\n",
    "{ \"id\": 8, \"name\": \"Kate\" },\n",
    "{ \"id\": 9, \"name\": \"Klein\" }\n",
    "]"
   ]
  },
  {
   "cell_type": "code",
   "execution_count": 17,
   "id": "439eeb52",
   "metadata": {},
   "outputs": [],
   "source": [
    "interests = [ \n",
    "(0, \"Mineria\"), (0, \"Big Data\"), (0, \"programacion 2\"), (0, \"Java\"),\n",
    "(0, \"Spark\"), (0, \"Storm\"), (0, \"Cassandra\"),\n",
    "(1, \"NoSQL\"), (1, \"MongoDB\"), (1, \"programacion 2\"), (1, \"Bases de Datos\"),\n",
    "(1, \"Postgres\"), (2, \"Python\"), (2, \"IOT\"), (2, \"Bases de Datos\"),\n",
    "(2, \"numpy\"), (2, \"statsmodels\"), (2, \"pandas\"), (3, \"R\"), (3, \"Python\"),\n",
    "(3, \"statistics\"), (3, \"Bases de Datos\"), (3, \"Mineria\"),\n",
    "(4, \"geografia\"), (4, \"regression\"), (4, \"video Juegos\"),\n",
    "(4, \"libsvm\"), (5, \"Python\"), (5, \"R\"), (5, \"Java\"), (5, \"C++\"),\n",
    "(5, \"Lenguaje para Analisis de datos\"), (5, \"Bases de Datos\"), (6, \"statistics\"),\n",
    "(6, \"probability\"), (6, \"mathematics\"), (6, \"theory\"),\n",
    "(7, \"machine learning\"), (7, \"scikit-learn\"), (7, \"Mahout\"),\n",
    "(7, \"neural networks\"), (8, \"neural networks\"), (8, \"deep learning\"),\n",
    "(8, \"Big Data\"), (8, \"artificial intelligence\"), (9, \"Hadoop\"),\n",
    "(9, \"Java\"), (9, \"MapReduce\"), (9, \"Big Data\")\n",
    "]"
   ]
  },
  {
   "cell_type": "code",
   "execution_count": 18,
   "id": "2cf9039b",
   "metadata": {},
   "outputs": [
    {
     "name": "stdout",
     "output_type": "stream",
     "text": [
      "defaultdict(<class 'list'>, {'Mineria': [0, 3], 'Big Data': [0, 8, 9], 'programacion 2': [0, 1], 'Java': [0, 5, 9], 'Spark': [0], 'Storm': [0], 'Cassandra': [0], 'NoSQL': [1], 'MongoDB': [1], 'Bases de Datos': [1, 2, 3, 5], 'Postgres': [1], 'Python': [2, 3, 5], 'IOT': [2], 'numpy': [2], 'statsmodels': [2], 'pandas': [2], 'R': [3, 5], 'statistics': [3, 6], 'geografia': [4], 'regression': [4], 'video Juegos': [4], 'libsvm': [4], 'C++': [5], 'Lenguaje para Analisis de datos': [5], 'probability': [6], 'mathematics': [6], 'theory': [6], 'machine learning': [7], 'scikit-learn': [7], 'Mahout': [7], 'neural networks': [7, 8], 'deep learning': [8], 'artificial intelligence': [8], 'Hadoop': [9], 'MapReduce': [9]})\n"
     ]
    }
   ],
   "source": [
    "from collections import defaultdict\n",
    "dicio=defaultdict(list)\n",
    "for user in users:\n",
    "    for i,j in interests:\n",
    "        if user[\"id\"]==i:\n",
    "         dicio[j].append(i)\n",
    "print(dicio)"
   ]
  },
  {
   "cell_type": "code",
   "execution_count": 19,
   "id": "dbda8eb6",
   "metadata": {},
   "outputs": [
    {
     "name": "stdout",
     "output_type": "stream",
     "text": [
      "{'Mineria': [], 'Big Data': [], 'programacion 2': [], 'Java': [], 'Spark': [], 'Storm': [], 'Cassandra': [], 'NoSQL': [], 'MongoDB': [], 'Bases de Datos': [], 'Postgres': [], 'Python': [], 'IOT': [], 'numpy': [], 'statsmodels': [], 'pandas': [], 'R': [], 'statistics': [], 'geografia': [], 'regression': [], 'video Juegos': [], 'libsvm': [], 'C++': [], 'Lenguaje para Analisis de datos': [], 'probability': [], 'mathematics': [], 'theory': [], 'machine learning': [], 'scikit-learn': [], 'Mahout': [], 'neural networks': [], 'deep learning': [], 'artificial intelligence': [], 'Hadoop': [], 'MapReduce': []}\n"
     ]
    }
   ],
   "source": [
    "DiccionarioInteres={j:[] for i,j in interests}\n",
    "print(DiccionarioInteres)"
   ]
  },
  {
   "cell_type": "code",
   "execution_count": 20,
   "id": "1fd1e131",
   "metadata": {},
   "outputs": [
    {
     "name": "stdout",
     "output_type": "stream",
     "text": [
      "{'Mineria': [0, 3], 'Big Data': [0, 8, 9], 'programacion 2': [0, 1], 'Java': [0, 5, 9], 'Spark': [0], 'Storm': [0], 'Cassandra': [0], 'NoSQL': [1], 'MongoDB': [1], 'Bases de Datos': [1, 2, 3, 5], 'Postgres': [1], 'Python': [2, 3, 5], 'IOT': [2], 'numpy': [2], 'statsmodels': [2], 'pandas': [2], 'R': [3, 5], 'statistics': [3, 6], 'geografia': [4], 'regression': [4], 'video Juegos': [4], 'libsvm': [4], 'C++': [5], 'Lenguaje para Analisis de datos': [5], 'probability': [6], 'mathematics': [6], 'theory': [6], 'machine learning': [7], 'scikit-learn': [7], 'Mahout': [7], 'neural networks': [7, 8], 'deep learning': [8], 'artificial intelligence': [8], 'Hadoop': [9], 'MapReduce': [9]}\n"
     ]
    }
   ],
   "source": [
    "for identi,mat in interests:\n",
    "    for use in users:\n",
    "        if use[\"id\"]==identi:\n",
    "            DiccionarioInteres[mat].append(use[\"id\"])\n",
    "print(DiccionarioInteres)\n",
    "\n",
    "\n",
    "            \n",
    "    \n"
   ]
  }
 ],
 "metadata": {
  "kernelspec": {
   "display_name": "base",
   "language": "python",
   "name": "python3"
  },
  "language_info": {
   "codemirror_mode": {
    "name": "ipython",
    "version": 3
   },
   "file_extension": ".py",
   "mimetype": "text/x-python",
   "name": "python",
   "nbconvert_exporter": "python",
   "pygments_lexer": "ipython3",
   "version": "3.12.4"
  }
 },
 "nbformat": 4,
 "nbformat_minor": 5
}
