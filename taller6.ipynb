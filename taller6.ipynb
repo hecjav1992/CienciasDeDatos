{
 "cells": [
  {
   "cell_type": "code",
   "execution_count": 16,
   "id": "02efb57a",
   "metadata": {},
   "outputs": [],
   "source": [
    "salarios_and_anno = [(83000, 8.7), (88000, 8.1),\n",
    "(48000, 0.7), (76000, 6),\n",
    "(69000, 6.5), (76000, 7.5),\n",
    "(60000, 2.5), (83000, 10),\n",
    "(48000, 1.9), (63000, 4.2)]"
   ]
  },
  {
   "cell_type": "code",
   "execution_count": 17,
   "id": "ccc4463c",
   "metadata": {},
   "outputs": [
    {
     "name": "stdout",
     "output_type": "stream",
     "text": [
      "8.7\n",
      "8.1\n",
      "0.7\n",
      "6\n",
      "6.5\n",
      "7.5\n",
      "2.5\n",
      "10\n",
      "1.9\n",
      "4.2\n"
     ]
    }
   ],
   "source": [
    "from matplotlib import pyplot as mp\n",
    "salaries=[]\n",
    "tenuaries=[]\n",
    "for i,j in salarios_and_anno:\n",
    "    print(j)\n",
    "    salaries.append(i)\n",
    "    tenuaries.append(j)"
   ]
  },
  {
   "cell_type": "code",
   "execution_count": 18,
   "id": "8172f882",
   "metadata": {},
   "outputs": [
    {
     "name": "stdout",
     "output_type": "stream",
     "text": [
      "defaultdict(<class 'list'>, {8.7: [83000], 8.1: [88000], 0.7: [48000], 6: [76000], 6.5: [69000], 7.5: [76000], 2.5: [60000], 10: [83000], 1.9: [48000], 4.2: [63000]})\n"
     ]
    }
   ],
   "source": [
    "from collections import defaultdict\n",
    "\n",
    "diciono=defaultdict(list)\n",
    "for i,j in salarios_and_anno:\n",
    "    diciono[j].append(i)\n",
    "print(diciono)\n"
   ]
  },
  {
   "cell_type": "code",
   "execution_count": 19,
   "id": "172ddabe",
   "metadata": {},
   "outputs": [
    {
     "name": "stdout",
     "output_type": "stream",
     "text": [
      "{8.7: 83000.0, 8.1: 88000.0, 0.7: 48000.0, 6: 76000.0, 6.5: 69000.0, 7.5: 76000.0, 2.5: 60000.0, 10: 83000.0, 1.9: 48000.0, 4.2: 63000.0}\n"
     ]
    }
   ],
   "source": [
    "average_salary_by_tenure = {\n",
    "tenure: sum(salaries) / len(salaries)\n",
    "for tenure, salaries in diciono.items()\n",
    "}\n",
    "\n",
    "print(average_salary_by_tenure)"
   ]
  },
  {
   "cell_type": "code",
   "execution_count": 20,
   "id": "3e29495e",
   "metadata": {},
   "outputs": [
    {
     "name": "stdout",
     "output_type": "stream",
     "text": [
      "defaultdict(<class 'list'>, {'more than five': [83000, 88000, 76000, 69000, 76000, 83000], 'less than two': [48000, 48000], 'between two and five': [60000, 63000]})\n"
     ]
    }
   ],
   "source": [
    "def tenure_bucket(tenure):\n",
    "    if tenure < 2:\n",
    "        return \"less than two\"\n",
    "    elif tenure < 5:\n",
    "        return \"between two and five\"\n",
    "    else:\n",
    "        return \"more than five\"\n",
    "\n",
    " \n",
    "salary_by_tenure_bucket = defaultdict(list)\n",
    "for salary, tenure in salarios_and_anno:\n",
    "    bucket = tenure_bucket(tenure)\n",
    "    salary_by_tenure_bucket[bucket].append(salary)\n",
    "\n",
    "print(salary_by_tenure_bucket)\n"
   ]
  },
  {
   "cell_type": "markdown",
   "id": "190f3ce5",
   "metadata": {},
   "source": [
    "'''Salarios y experiencia\n",
    "Justo cuando se iba a comer, el vicepresidente de Relaciones Públicas le\n",
    "pregunta si le puede suministrar datos curiosos sobre lo que ganan los\n",
    "científicos de datos. Los datos de sueldos son, por supuesto, confidenciales,\n",
    "pero se las arregla para conseguir un conjunto de datos anónimo que contiene\n",
    "el salario (salary) de cada usuario (en dólares) y su antigüedad en el puesto\n",
    "(tenure) como científico de datos (en años):'''"
   ]
  }
 ],
 "metadata": {
  "kernelspec": {
   "display_name": "base",
   "language": "python",
   "name": "python3"
  },
  "language_info": {
   "codemirror_mode": {
    "name": "ipython",
    "version": 3
   },
   "file_extension": ".py",
   "mimetype": "text/x-python",
   "name": "python",
   "nbconvert_exporter": "python",
   "pygments_lexer": "ipython3",
   "version": "3.12.4"
  }
 },
 "nbformat": 4,
 "nbformat_minor": 5
}
