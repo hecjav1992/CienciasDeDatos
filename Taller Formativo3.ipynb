{
 "cells": [
  {
   "cell_type": "code",
   "execution_count": 2,
   "id": "f03c1525",
   "metadata": {},
   "outputs": [],
   "source": [
    "users = [\n",
    "{ \"id\": 0, \"name\": \"Hero\" },\n",
    "{ \"id\": 1, \"name\": \"Dunn\" },\n",
    "{ \"id\": 2, \"name\": \"Sue\" },\n",
    "{ \"id\": 3, \"name\": \"Chi\" },\n",
    "{ \"id\": 4, \"name\": \"Thor\" },\n",
    "{ \"id\": 5, \"name\": \"Clive\" },\n",
    "{ \"id\": 6, \"name\": \"Hicks\" },\n",
    "{ \"id\": 7, \"name\": \"Devin\" },\n",
    "{ \"id\": 8, \"name\": \"Kate\" },\n",
    "{ \"id\": 9, \"name\": \"Klein\" }\n",
    "]"
   ]
  },
  {
   "cell_type": "code",
   "execution_count": 3,
   "id": "36dd228e",
   "metadata": {},
   "outputs": [],
   "source": [
    "trabajo_en_grupo= [(0, 1), (0, 2), (1, 2), (1, 3), (2, 3), (3, 4),\n",
    "(4, 5), (5, 6), (5, 7), (6, 8), (7, 8), (8, 9)]"
   ]
  },
  {
   "cell_type": "code",
   "execution_count": 150,
   "id": "182b841c",
   "metadata": {},
   "outputs": [
    {
     "name": "stdout",
     "output_type": "stream",
     "text": [
      "{0: [1, 2], 1: [0, 2, 3], 2: [0, 1, 3], 3: [1, 2, 4], 4: [3, 5], 5: [4, 6, 7], 6: [5, 8], 7: [5, 8], 8: [6, 7, 9], 9: [8]}\n"
     ]
    }
   ],
   "source": [
    "DiccionarioDeConexion={user[\"id\"]:[] for user in users}\n",
    "for x,y in trabajo_en_grupo:\n",
    "    DiccionarioDeConexion[x].append(y)\n",
    "    DiccionarioDeConexion[y].append(x)\n",
    "print(DiccionarioDeConexion)"
   ]
  },
  {
   "cell_type": "code",
   "execution_count": 107,
   "id": "a6cf5112",
   "metadata": {},
   "outputs": [
    {
     "name": "stdout",
     "output_type": "stream",
     "text": [
      "Counter({0: 2, 3: 2, 2: 1, 1: 1})\n"
     ]
    }
   ],
   "source": [
    "from collections import Counter\n",
    "amigosDeAmigos=[]\n",
    "def amigoDea(usario):\n",
    "    for i in usario:\n",
    "        for k,j in trabajo_en_grupo:\n",
    "            if i==k:\n",
    "                amigosDeAmigos.append(j)\n",
    "            elif i==j:\n",
    "                amigosDeAmigos.append(k)\n",
    "    return Counter(amigosDeAmigos)\n",
    "print(amigoDea(DiccionarioDeConexion[0]))"
   ]
  },
  {
   "cell_type": "code",
   "execution_count": 181,
   "id": "45775a8d",
   "metadata": {},
   "outputs": [
    {
     "name": "stdout",
     "output_type": "stream",
     "text": [
      "Counter({5: 2})\n"
     ]
    }
   ],
   "source": [
    "def funcioAmigo(user):\n",
    "   user_id=user\n",
    "   return Counter([tusAmigo\n",
    "          for amigosMio in DiccionarioDeConexion[user_id]\n",
    "          for tusAmigo in DiccionarioDeConexion[amigosMio]\n",
    "          if tusAmigo != user_id \n",
    "          and tusAmigo not in DiccionarioDeConexion[user_id]])\n",
    "print(funcioAmigo(8))"
   ]
  }
 ],
 "metadata": {
  "kernelspec": {
   "display_name": "base",
   "language": "python",
   "name": "python3"
  },
  "language_info": {
   "codemirror_mode": {
    "name": "ipython",
    "version": 3
   },
   "file_extension": ".py",
   "mimetype": "text/x-python",
   "name": "python",
   "nbconvert_exporter": "python",
   "pygments_lexer": "ipython3",
   "version": "3.12.4"
  }
 },
 "nbformat": 4,
 "nbformat_minor": 5
}
